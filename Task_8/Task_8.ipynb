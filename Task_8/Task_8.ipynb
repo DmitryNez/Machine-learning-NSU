{
 "cells": [
  {
   "cell_type": "code",
   "execution_count": 1,
   "metadata": {},
   "outputs": [],
   "source": [
    "import numpy as np\n",
    "import matplotlib.pyplot as plt\n",
    "import tensorflow as tf"
   ]
  },
  {
   "cell_type": "markdown",
   "metadata": {},
   "source": [
    "# 1,2.MNIST"
   ]
  },
  {
   "cell_type": "code",
   "execution_count": 3,
   "metadata": {},
   "outputs": [],
   "source": [
    "(x_train, y_train), (x_test, y_test) = tf.keras.datasets.mnist.load_data()"
   ]
  },
  {
   "cell_type": "code",
   "execution_count": 15,
   "metadata": {},
   "outputs": [
    {
     "data": {
      "text/plain": [
       "<matplotlib.image.AxesImage at 0x1914c84abb0>"
      ]
     },
     "execution_count": 15,
     "metadata": {},
     "output_type": "execute_result"
    },
    {
     "data": {
      "image/png": "[encoded data removed]",
      "text/plain": [
       "<Figure size 432x288 with 1 Axes>"
      ]
     },
     "metadata": {
      "needs_background": "light"
     },
     "output_type": "display_data"
    }
   ],
   "source": [
    "plt.imshow(x_test[1])"
   ]
  },
  {
   "cell_type": "code",
   "execution_count": 17,
   "metadata": {},
   "outputs": [
    {
     "data": {
      "text/plain": [
       "(28, 28)"
      ]
     },
     "execution_count": 17,
     "metadata": {},
     "output_type": "execute_result"
    }
   ],
   "source": [
    "x_test[1].shape"
   ]
  },
  {
   "cell_type": "code",
   "execution_count": 18,
   "metadata": {},
   "outputs": [],
   "source": [
    "x_train = x_train / 255\n",
    "x_test = x_test / 255\n",
    "x_test = x_test.reshape(-1,784)\n",
    "x_train = x_train.reshape(-1,784)\n",
    "y_train_cl = tf.keras.utils.to_categorical(y_train, num_classes=10)\n",
    "y_test_cl = tf.keras.utils.to_categorical(y_test, num_classes=10)"
   ]
  },
  {
   "cell_type": "code",
   "execution_count": 19,
   "metadata": {},
   "outputs": [],
   "source": [
    "model = tf.keras.models.Sequential()\n",
    "model.add(tf.keras.layers.Dense(256,activation = 'relu',input_shape=(784,)))\n",
    "model.add(tf.keras.layers.Dense(10,activation = 'softmax'))\n",
    "model.compile(optimizer='adam', loss='categorical_crossentropy', metrics=['accuracy'])"
   ]
  },
  {
   "cell_type": "code",
   "execution_count": 20,
   "metadata": {},
   "outputs": [
    {
     "data": {
      "text/plain": [
       "(60000, 784)"
      ]
     },
     "execution_count": 20,
     "metadata": {},
     "output_type": "execute_result"
    }
   ],
   "source": [
    "x_train.shape"
   ]
  },
  {
   "cell_type": "code",
   "execution_count": 23,
   "metadata": {},
   "outputs": [
    {
     "name": "stdout",
     "output_type": "stream",
     "text": [
      "Epoch 1/10\n",
      "3750/3750 [==============================] - 11s 3ms/step - loss: 0.2110 - accuracy: 0.9395\n",
      "Epoch 2/10\n",
      "3750/3750 [==============================] - 9s 2ms/step - loss: 0.1944 - accuracy: 0.9448\n",
      "Epoch 3/10\n",
      "3750/3750 [==============================] - 10s 3ms/step - loss: 0.1801 - accuracy: 0.9488\n",
      "Epoch 4/10\n",
      "3750/3750 [==============================] - 10s 3ms/step - loss: 0.1669 - accuracy: 0.9523\n",
      "Epoch 5/10\n",
      "3750/3750 [==============================] - 10s 3ms/step - loss: 0.1553 - accuracy: 0.9554\n",
      "Epoch 6/10\n",
      "3750/3750 [==============================] - 9s 3ms/step - loss: 0.1447 - accuracy: 0.9584\n",
      "Epoch 7/10\n",
      "3750/3750 [==============================] - 10s 3ms/step - loss: 0.1349 - accuracy: 0.9618\n",
      "Epoch 8/10\n",
      "3750/3750 [==============================] - 10s 3ms/step - loss: 0.1267 - accuracy: 0.9639\n",
      "Epoch 9/10\n",
      "3750/3750 [==============================] - 10s 3ms/step - loss: 0.1190 - accuracy: 0.9653\n",
      "Epoch 10/10\n",
      "3750/3750 [==============================] - 10s 3ms/step - loss: 0.1119 - accuracy: 0.9680\n"
     ]
    }
   ],
   "source": [
    "history = model.fit(x_train, y_train_cl, batch_size=16, epochs=10)"
   ]
  },
  {
   "cell_type": "code",
   "execution_count": 24,
   "metadata": {},
   "outputs": [],
   "source": [
    "y_pred = model.predict(x_test)"
   ]
  },
  {
   "cell_type": "code",
   "execution_count": 25,
   "metadata": {},
   "outputs": [
    {
     "name": "stdout",
     "output_type": "stream",
     "text": [
      "313/313 [==============================] - 0s 1ms/step - loss: 0.1184 - accuracy: 0.9646\n"
     ]
    }
   ],
   "source": [
    "loss,accuracy = model.evaluate(x_test,y_test_cl,verbose = 1)"
   ]
  },
  {
   "cell_type": "markdown",
   "metadata": {},
   "source": [
    "# 3.validation_split"
   ]
  },
  {
   "cell_type": "code",
   "execution_count": 27,
   "metadata": {},
   "outputs": [
    {
     "name": "stdout",
     "output_type": "stream",
     "text": [
      "Epoch 1/10\n",
      "3000/3000 [==============================] - 10s 3ms/step - loss: 0.1072 - accuracy: 0.9694 - val_loss: 0.0983 - val_accuracy: 0.9722\n",
      "Epoch 2/10\n",
      "3000/3000 [==============================] - 9s 3ms/step - loss: 0.1014 - accuracy: 0.9715 - val_loss: 0.0997 - val_accuracy: 0.9714\n",
      "Epoch 3/10\n",
      "3000/3000 [==============================] - 10s 3ms/step - loss: 0.0967 - accuracy: 0.9722 - val_loss: 0.0946 - val_accuracy: 0.9724\n",
      "Epoch 4/10\n",
      "3000/3000 [==============================] - 10s 3ms/step - loss: 0.0920 - accuracy: 0.9740 - val_loss: 0.0978 - val_accuracy: 0.9719\n",
      "Epoch 5/10\n",
      "3000/3000 [==============================] - 9s 3ms/step - loss: 0.0878 - accuracy: 0.9750 - val_loss: 0.0946 - val_accuracy: 0.9730\n",
      "Epoch 6/10\n",
      "3000/3000 [==============================] - 9s 3ms/step - loss: 0.0840 - accuracy: 0.9763 - val_loss: 0.0928 - val_accuracy: 0.9727\n",
      "Epoch 7/10\n",
      "3000/3000 [==============================] - 10s 3ms/step - loss: 0.0798 - accuracy: 0.9779 - val_loss: 0.0878 - val_accuracy: 0.9745\n",
      "Epoch 8/10\n",
      "3000/3000 [==============================] - 8s 3ms/step - loss: 0.0765 - accuracy: 0.9789 - val_loss: 0.0867 - val_accuracy: 0.9749\n",
      "Epoch 9/10\n",
      "3000/3000 [==============================] - 8s 3ms/step - loss: 0.0733 - accuracy: 0.9795 - val_loss: 0.0866 - val_accuracy: 0.9742\n",
      "Epoch 10/10\n",
      "3000/3000 [==============================] - 8s 3ms/step - loss: 0.0700 - accuracy: 0.9803 - val_loss: 0.0846 - val_accuracy: 0.9752\n"
     ]
    }
   ],
   "source": [
    "history = model.fit(x_train, y_train_cl, batch_size=16, epochs=10,validation_split = 0.2)"
   ]
  },
  {
   "cell_type": "code",
   "execution_count": 31,
   "metadata": {},
   "outputs": [
    {
     "data": {
      "text/plain": [
       "[<matplotlib.lines.Line2D at 0x1ec15900760>]"
      ]
     },
     "execution_count": 31,
     "metadata": {},
     "output_type": "execute_result"
    },
    {
     "data": {
      "image/png": "[encoded data removed]",
      "text/plain": [
       "<Figure size 720x720 with 1 Axes>"
      ]
     },
     "metadata": {
      "needs_background": "light"
     },
     "output_type": "display_data"
    }
   ],
   "source": [
    "accuracy = history.history['accuracy']\n",
    "\n",
    "fig = plt.figure(figsize=(10, 10))\n",
    "plt.xlabel(\"Epochs\")\n",
    "plt.ylabel(\"accuracy\")\n",
    "\n",
    "plt.plot(accuracy)"
   ]
  },
  {
   "cell_type": "markdown",
   "metadata": {},
   "source": [
    "# 4.Titanic"
   ]
  },
  {
   "cell_type": "code",
   "execution_count": 3,
   "metadata": {},
   "outputs": [],
   "source": [
    "import pandas as pd\n",
    "from sklearn.model_selection import train_test_split"
   ]
  },
  {
   "cell_type": "code",
   "execution_count": 4,
   "metadata": {},
   "outputs": [],
   "source": [
    "df_main = pd.read_csv('Data/Lessons/data/titanic/train.csv')\n",
    "Y = df_main['Survived']\n",
    "X = df_main.loc[:, df_main.columns != 'Survived']"
   ]
  },
  {
   "cell_type": "code",
   "execution_count": 5,
   "metadata": {},
   "outputs": [],
   "source": [
    "X_train, X_test, Y_train, Y_test = train_test_split(X, Y,test_size = 0.2, random_state=1)"
   ]
  },
  {
   "cell_type": "code",
   "execution_count": 6,
   "metadata": {},
   "outputs": [],
   "source": [
    "y_train_sc = tf.keras.utils.to_categorical(Y_train, num_classes=2)\n",
    "y_test_sc = tf.keras.utils.to_categorical(Y_test, num_classes=2)"
   ]
  },
  {
   "cell_type": "code",
   "execution_count": 7,
   "metadata": {},
   "outputs": [],
   "source": [
    "X_train = X_train.drop(['PassengerId', 'Name', 'Ticket', 'Cabin'], axis = 1)\n",
    "X_test = X_test.drop(['PassengerId','Name','Ticket','Cabin'], axis = 1)"
   ]
  },
  {
   "cell_type": "code",
   "execution_count": 8,
   "metadata": {},
   "outputs": [],
   "source": [
    "def prepare_num(df):\n",
    "    df_num = df.drop(['Sex', 'Embarked', 'Pclass'], axis=1)\n",
    "    df_sex = pd.get_dummies(df['Sex'])\n",
    "    df_emb = pd.get_dummies(df['Embarked'], prefix='Emb')\n",
    "    df_pcl = pd.get_dummies(df['Pclass'], prefix='Pclass')\n",
    "\n",
    "    df_num = pd.concat((df_num, df_sex, df_emb, df_pcl), axis=1)\n",
    "    return df_num"
   ]
  },
  {
   "cell_type": "code",
   "execution_count": 9,
   "metadata": {},
   "outputs": [],
   "source": [
    "X_train = prepare_num(X_train)\n",
    "X_test = prepare_num(X_test)\n",
    "X_test = X_test.fillna(X.median())\n",
    "X_train = X_train.fillna(X.median())"
   ]
  },
  {
   "cell_type": "code",
   "execution_count": 10,
   "metadata": {},
   "outputs": [],
   "source": [
    "from sklearn.preprocessing import MinMaxScaler\n",
    "scaler = MinMaxScaler()\n",
    "x_train_sc = scaler.fit_transform(X_train)\n",
    "x_test_sc = scaler.transform(X_test)"
   ]
  },
  {
   "cell_type": "code",
   "execution_count": 11,
   "metadata": {},
   "outputs": [
    {
     "data": {
      "text/plain": [
       "(712, 12)"
      ]
     },
     "execution_count": 11,
     "metadata": {},
     "output_type": "execute_result"
    }
   ],
   "source": [
    "x_train_sc.shape"
   ]
  },
  {
   "cell_type": "code",
   "execution_count": 12,
   "metadata": {},
   "outputs": [],
   "source": [
    "model_t = tf.keras.models.Sequential()\n",
    "model_t.add(tf.keras.layers.Dense(64,activation = 'relu',input_shape=(12,)))\n",
    "model_t.add(tf.keras.layers.Dense(2,activation = 'sigmoid'))\n",
    "model_t.compile(optimizer='adam', loss='mean_squared_error', metrics=['accuracy'])"
   ]
  },
  {
   "cell_type": "code",
   "execution_count": 13,
   "metadata": {},
   "outputs": [
    {
     "name": "stdout",
     "output_type": "stream",
     "text": [
      "Epoch 1/100\n",
      "60/60 [==============================] - 0s 1ms/step - loss: 0.2384 - accuracy: 0.5772\n",
      "Epoch 2/100\n",
      "60/60 [==============================] - 0s 1ms/step - loss: 0.1835 - accuracy: 0.7654\n",
      "Epoch 3/100\n",
      "60/60 [==============================] - 0s 1ms/step - loss: 0.1587 - accuracy: 0.8244\n",
      "Epoch 4/100\n",
      "60/60 [==============================] - 0s 2ms/step - loss: 0.1480 - accuracy: 0.8160\n",
      "Epoch 5/100\n",
      "60/60 [==============================] - 0s 2ms/step - loss: 0.1435 - accuracy: 0.8118\n",
      "Epoch 6/100\n",
      "60/60 [==============================] - 0s 1ms/step - loss: 0.1418 - accuracy: 0.8132\n",
      "Epoch 7/100\n",
      "60/60 [==============================] - 0s 1ms/step - loss: 0.1398 - accuracy: 0.8216\n",
      "Epoch 8/100\n",
      "60/60 [==============================] - ETA: 0s - loss: 0.1364 - accuracy: 0.82 - 0s 1ms/step - loss: 0.1380 - accuracy: 0.8230\n",
      "Epoch 9/100\n",
      "60/60 [==============================] - 0s 1ms/step - loss: 0.1370 - accuracy: 0.8188\n",
      "Epoch 10/100\n",
      "60/60 [==============================] - 0s 1ms/step - loss: 0.1364 - accuracy: 0.8202\n",
      "Epoch 11/100\n",
      "60/60 [==============================] - 0s 1ms/step - loss: 0.1355 - accuracy: 0.8202\n",
      "Epoch 12/100\n",
      "60/60 [==============================] - 0s 1ms/step - loss: 0.1350 - accuracy: 0.8230\n",
      "Epoch 13/100\n",
      "60/60 [==============================] - 0s 1ms/step - loss: 0.1348 - accuracy: 0.8146\n",
      "Epoch 14/100\n",
      "60/60 [==============================] - 0s 2ms/step - loss: 0.1339 - accuracy: 0.8230\n",
      "Epoch 15/100\n",
      "60/60 [==============================] - 0s 2ms/step - loss: 0.1335 - accuracy: 0.8244\n",
      "Epoch 16/100\n",
      "60/60 [==============================] - 0s 1ms/step - loss: 0.1330 - accuracy: 0.8230\n",
      "Epoch 17/100\n",
      "60/60 [==============================] - 0s 1ms/step - loss: 0.1321 - accuracy: 0.8230\n",
      "Epoch 18/100\n",
      "60/60 [==============================] - 0s 2ms/step - loss: 0.1317 - accuracy: 0.8230\n",
      "Epoch 19/100\n",
      "60/60 [==============================] - 0s 1ms/step - loss: 0.1320 - accuracy: 0.8202\n",
      "Epoch 20/100\n",
      "60/60 [==============================] - 0s 1ms/step - loss: 0.1311 - accuracy: 0.8230\n",
      "Epoch 21/100\n",
      "60/60 [==============================] - 0s 2ms/step - loss: 0.1303 - accuracy: 0.8244\n",
      "Epoch 22/100\n",
      "60/60 [==============================] - 0s 2ms/step - loss: 0.1303 - accuracy: 0.8272\n",
      "Epoch 23/100\n",
      "60/60 [==============================] - 0s 2ms/step - loss: 0.1299 - accuracy: 0.8258\n",
      "Epoch 24/100\n",
      "60/60 [==============================] - 0s 1ms/step - loss: 0.1290 - accuracy: 0.8287\n",
      "Epoch 25/100\n",
      "60/60 [==============================] - 0s 1ms/step - loss: 0.1291 - accuracy: 0.8258\n",
      "Epoch 26/100\n",
      "60/60 [==============================] - 0s 1ms/step - loss: 0.1287 - accuracy: 0.8272\n",
      "Epoch 27/100\n",
      "60/60 [==============================] - 0s 1ms/step - loss: 0.1281 - accuracy: 0.8301\n",
      "Epoch 28/100\n",
      "60/60 [==============================] - 0s 1ms/step - loss: 0.1277 - accuracy: 0.8272\n",
      "Epoch 29/100\n",
      "60/60 [==============================] - 0s 2ms/step - loss: 0.1275 - accuracy: 0.8287\n",
      "Epoch 30/100\n",
      "60/60 [==============================] - 0s 2ms/step - loss: 0.1271 - accuracy: 0.8287\n",
      "Epoch 31/100\n",
      "60/60 [==============================] - 0s 1ms/step - loss: 0.1267 - accuracy: 0.8287\n",
      "Epoch 32/100\n",
      "60/60 [==============================] - 0s 1ms/step - loss: 0.1261 - accuracy: 0.8287\n",
      "Epoch 33/100\n",
      "60/60 [==============================] - 0s 2ms/step - loss: 0.1258 - accuracy: 0.8287\n",
      "Epoch 34/100\n",
      "60/60 [==============================] - 0s 2ms/step - loss: 0.1255 - accuracy: 0.8272\n",
      "Epoch 35/100\n",
      "60/60 [==============================] - 0s 1ms/step - loss: 0.1256 - accuracy: 0.8287\n",
      "Epoch 36/100\n",
      "60/60 [==============================] - 0s 1ms/step - loss: 0.1250 - accuracy: 0.8315\n",
      "Epoch 37/100\n",
      "60/60 [==============================] - 0s 1ms/step - loss: 0.1249 - accuracy: 0.8272\n",
      "Epoch 38/100\n",
      "60/60 [==============================] - 0s 2ms/step - loss: 0.1243 - accuracy: 0.8343\n",
      "Epoch 39/100\n",
      "60/60 [==============================] - 0s 2ms/step - loss: 0.1243 - accuracy: 0.8329\n",
      "Epoch 40/100\n",
      "60/60 [==============================] - 0s 1ms/step - loss: 0.1240 - accuracy: 0.8315\n",
      "Epoch 41/100\n",
      "60/60 [==============================] - 0s 1ms/step - loss: 0.1242 - accuracy: 0.8385\n",
      "Epoch 42/100\n",
      "60/60 [==============================] - 0s 1ms/step - loss: 0.1238 - accuracy: 0.8343\n",
      "Epoch 43/100\n",
      "60/60 [==============================] - 0s 2ms/step - loss: 0.1238 - accuracy: 0.8371\n",
      "Epoch 44/100\n",
      "60/60 [==============================] - 0s 2ms/step - loss: 0.1228 - accuracy: 0.8413\n",
      "Epoch 45/100\n",
      "60/60 [==============================] - 0s 1ms/step - loss: 0.1231 - accuracy: 0.8385\n",
      "Epoch 46/100\n",
      "60/60 [==============================] - 0s 1ms/step - loss: 0.1230 - accuracy: 0.8441\n",
      "Epoch 47/100\n",
      "60/60 [==============================] - 0s 2ms/step - loss: 0.1221 - accuracy: 0.8385\n",
      "Epoch 48/100\n",
      "60/60 [==============================] - 0s 2ms/step - loss: 0.1222 - accuracy: 0.8441\n",
      "Epoch 49/100\n",
      "60/60 [==============================] - 0s 2ms/step - loss: 0.1224 - accuracy: 0.8399\n",
      "Epoch 50/100\n",
      "60/60 [==============================] - 0s 1ms/step - loss: 0.1218 - accuracy: 0.8441\n",
      "Epoch 51/100\n",
      "60/60 [==============================] - 0s 1ms/step - loss: 0.1211 - accuracy: 0.8427\n",
      "Epoch 52/100\n",
      "60/60 [==============================] - 0s 2ms/step - loss: 0.1215 - accuracy: 0.8399\n",
      "Epoch 53/100\n",
      "60/60 [==============================] - 0s 1ms/step - loss: 0.1214 - accuracy: 0.8455\n",
      "Epoch 54/100\n",
      "60/60 [==============================] - 0s 1ms/step - loss: 0.1213 - accuracy: 0.8413\n",
      "Epoch 55/100\n",
      "60/60 [==============================] - 0s 1ms/step - loss: 0.1217 - accuracy: 0.8413\n",
      "Epoch 56/100\n",
      "60/60 [==============================] - 0s 1ms/step - loss: 0.1208 - accuracy: 0.8455\n",
      "Epoch 57/100\n",
      "60/60 [==============================] - 0s 1ms/step - loss: 0.1209 - accuracy: 0.8427\n",
      "Epoch 58/100\n",
      "60/60 [==============================] - 0s 1ms/step - loss: 0.1206 - accuracy: 0.8455\n",
      "Epoch 59/100\n",
      "60/60 [==============================] - 0s 1ms/step - loss: 0.1209 - accuracy: 0.8427\n",
      "Epoch 60/100\n",
      "60/60 [==============================] - 0s 1ms/step - loss: 0.1207 - accuracy: 0.8427\n",
      "Epoch 61/100\n",
      "60/60 [==============================] - 0s 1ms/step - loss: 0.1201 - accuracy: 0.8469\n",
      "Epoch 62/100\n",
      "60/60 [==============================] - 0s 1ms/step - loss: 0.1206 - accuracy: 0.8399\n",
      "Epoch 63/100\n",
      "60/60 [==============================] - 0s 1ms/step - loss: 0.1205 - accuracy: 0.8427\n",
      "Epoch 64/100\n",
      "60/60 [==============================] - 0s 1ms/step - loss: 0.1200 - accuracy: 0.8413\n",
      "Epoch 65/100\n",
      "60/60 [==============================] - 0s 1ms/step - loss: 0.1197 - accuracy: 0.8455\n",
      "Epoch 66/100\n",
      "60/60 [==============================] - 0s 1ms/step - loss: 0.1198 - accuracy: 0.8469\n",
      "Epoch 67/100\n",
      "60/60 [==============================] - 0s 1ms/step - loss: 0.1196 - accuracy: 0.8455\n",
      "Epoch 68/100\n",
      "60/60 [==============================] - 0s 1ms/step - loss: 0.1194 - accuracy: 0.8469\n",
      "Epoch 69/100\n",
      "60/60 [==============================] - 0s 1ms/step - loss: 0.1197 - accuracy: 0.8441\n",
      "Epoch 70/100\n",
      "60/60 [==============================] - 0s 1ms/step - loss: 0.1194 - accuracy: 0.8483\n",
      "Epoch 71/100\n",
      "60/60 [==============================] - 0s 1ms/step - loss: 0.1193 - accuracy: 0.8455\n",
      "Epoch 72/100\n",
      "60/60 [==============================] - 0s 1ms/step - loss: 0.1184 - accuracy: 0.8469\n",
      "Epoch 73/100\n",
      "60/60 [==============================] - 0s 1ms/step - loss: 0.1192 - accuracy: 0.8469\n",
      "Epoch 74/100\n",
      "60/60 [==============================] - 0s 1ms/step - loss: 0.1186 - accuracy: 0.8455\n",
      "Epoch 75/100\n",
      "60/60 [==============================] - 0s 1ms/step - loss: 0.1187 - accuracy: 0.8511\n",
      "Epoch 76/100\n",
      "60/60 [==============================] - 0s 1ms/step - loss: 0.1189 - accuracy: 0.8469\n",
      "Epoch 77/100\n",
      "60/60 [==============================] - 0s 1ms/step - loss: 0.1186 - accuracy: 0.8497\n",
      "Epoch 78/100\n",
      "60/60 [==============================] - 0s 1ms/step - loss: 0.1186 - accuracy: 0.8483\n",
      "Epoch 79/100\n",
      "60/60 [==============================] - 0s 1ms/step - loss: 0.1186 - accuracy: 0.8497\n",
      "Epoch 80/100\n",
      "60/60 [==============================] - 0s 1ms/step - loss: 0.1178 - accuracy: 0.8497\n",
      "Epoch 81/100\n",
      "60/60 [==============================] - 0s 1ms/step - loss: 0.1181 - accuracy: 0.8497\n",
      "Epoch 82/100\n",
      "60/60 [==============================] - 0s 1ms/step - loss: 0.1183 - accuracy: 0.8539\n",
      "Epoch 83/100\n",
      "60/60 [==============================] - 0s 1ms/step - loss: 0.1181 - accuracy: 0.8469\n",
      "Epoch 84/100\n",
      "60/60 [==============================] - 0s 1ms/step - loss: 0.1174 - accuracy: 0.8511\n",
      "Epoch 85/100\n",
      "60/60 [==============================] - 0s 1ms/step - loss: 0.1180 - accuracy: 0.8539\n",
      "Epoch 86/100\n",
      "60/60 [==============================] - 0s 1ms/step - loss: 0.1179 - accuracy: 0.8539\n",
      "Epoch 87/100\n",
      "60/60 [==============================] - 0s 1ms/step - loss: 0.1173 - accuracy: 0.8525\n",
      "Epoch 88/100\n",
      "60/60 [==============================] - 0s 1ms/step - loss: 0.1176 - accuracy: 0.8483\n",
      "Epoch 89/100\n",
      "60/60 [==============================] - 0s 1ms/step - loss: 0.1173 - accuracy: 0.8553\n",
      "Epoch 90/100\n",
      "60/60 [==============================] - 0s 1ms/step - loss: 0.1168 - accuracy: 0.8539\n",
      "Epoch 91/100\n",
      "60/60 [==============================] - 0s 1ms/step - loss: 0.1177 - accuracy: 0.8497\n",
      "Epoch 92/100\n",
      "60/60 [==============================] - 0s 1ms/step - loss: 0.1171 - accuracy: 0.8511\n",
      "Epoch 93/100\n",
      "60/60 [==============================] - 0s 1ms/step - loss: 0.1169 - accuracy: 0.8553\n",
      "Epoch 94/100\n",
      "60/60 [==============================] - 0s 1ms/step - loss: 0.1168 - accuracy: 0.8525\n",
      "Epoch 95/100\n",
      "60/60 [==============================] - 0s 1ms/step - loss: 0.1170 - accuracy: 0.8539\n",
      "Epoch 96/100\n",
      "60/60 [==============================] - 0s 1ms/step - loss: 0.1170 - accuracy: 0.8525\n",
      "Epoch 97/100\n",
      "60/60 [==============================] - 0s 1ms/step - loss: 0.1168 - accuracy: 0.8553\n",
      "Epoch 98/100\n",
      "60/60 [==============================] - 0s 1ms/step - loss: 0.1170 - accuracy: 0.8539\n",
      "Epoch 99/100\n",
      "60/60 [==============================] - 0s 1ms/step - loss: 0.1172 - accuracy: 0.8525\n",
      "Epoch 100/100\n",
      "60/60 [==============================] - 0s 1ms/step - loss: 0.1161 - accuracy: 0.8525\n"
     ]
    }
   ],
   "source": [
    "history_t = model_t.fit(x_train_sc, y_train_sc, batch_size=12, epochs=100)"
   ]
  },
  {
   "cell_type": "code",
   "execution_count": 14,
   "metadata": {},
   "outputs": [
    {
     "name": "stdout",
     "output_type": "stream",
     "text": [
      "6/6 [==============================] - 0s 1ms/step - loss: 0.1501 - accuracy: 0.7821\n"
     ]
    }
   ],
   "source": [
    "loss,accuracy = model_t.evaluate(x_test_sc,y_test_sc,verbose = 1)"
   ]
  }
 ],
 "metadata": {
  "kernelspec": {
   "display_name": "Python 3",
   "language": "python",
   "name": "python3"
  },
  "language_info": {
   "codemirror_mode": {
    "name": "ipython",
    "version": 3
   },
   "file_extension": ".py",
   "mimetype": "text/x-python",
   "name": "python",
   "nbconvert_exporter": "python",
   "pygments_lexer": "ipython3",
   "version": "3.8.3"
  }
 },
 "nbformat": 4,
 "nbformat_minor": 4
}
