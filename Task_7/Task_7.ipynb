{
 "cells": [
  {
   "cell_type": "code",
   "execution_count": 35,
   "metadata": {},
   "outputs": [],
   "source": [
    "import numpy as np\n",
    "import pandas as pd\n",
    "from xgboost import XGBClassifier\n",
    "from sklearn.ensemble import RandomForestClassifier\n",
    "from sklearn.linear_model import LogisticRegression\n",
    "from sklearn.neighbors import KNeighborsClassifier\n",
    "from sklearn.model_selection import train_test_split\n",
    "from sklearn.metrics import accuracy_score\n",
    "import matplotlib.pyplot as plt\n",
    "import warnings\n",
    "warnings.filterwarnings('ignore')"
   ]
  },
  {
   "cell_type": "markdown",
   "metadata": {},
   "source": [
    "# 1. Гиперпараметры"
   ]
  },
  {
   "cell_type": "code",
   "execution_count": 46,
   "metadata": {},
   "outputs": [],
   "source": [
    "df_main = pd.read_csv('Data/Lessons/data/titanic/train.csv')\n",
    "Y = df_main['Survived']\n",
    "X = df_main.loc[:, df_main.columns != 'Survived']"
   ]
  },
  {
   "cell_type": "code",
   "execution_count": 327,
   "metadata": {},
   "outputs": [],
   "source": [
    "X_train, X_test, Y_train, Y_test = train_test_split(X, Y,test_size = 0.2, random_state=1)\n",
    "X_train, X_valid, Y_train, Y_valid = train_test_split(X_train, Y_train,test_size = 0.2, random_state=1)"
   ]
  },
  {
   "cell_type": "code",
   "execution_count": 55,
   "metadata": {},
   "outputs": [
    {
     "data": {
      "text/html": [
       "<div>\n",
       "<style scoped>\n",
       "    .dataframe tbody tr th:only-of-type {\n",
       "        vertical-align: middle;\n",
       "    }\n",
       "\n",
       "    .dataframe tbody tr th {\n",
       "        vertical-align: top;\n",
       "    }\n",
       "\n",
       "    .dataframe thead th {\n",
       "        text-align: right;\n",
       "    }\n",
       "</style>\n",
       "<table border=\"1\" class=\"dataframe\">\n",
       "  <thead>\n",
       "    <tr style=\"text-align: right;\">\n",
       "      <th></th>\n",
       "      <th>PassengerId</th>\n",
       "      <th>Pclass</th>\n",
       "      <th>Name</th>\n",
       "      <th>Sex</th>\n",
       "      <th>Age</th>\n",
       "      <th>SibSp</th>\n",
       "      <th>Parch</th>\n",
       "      <th>Ticket</th>\n",
       "      <th>Fare</th>\n",
       "      <th>Cabin</th>\n",
       "      <th>Embarked</th>\n",
       "    </tr>\n",
       "  </thead>\n",
       "  <tbody>\n",
       "    <tr>\n",
       "      <th>693</th>\n",
       "      <td>694</td>\n",
       "      <td>3</td>\n",
       "      <td>Saad, Mr. Khalil</td>\n",
       "      <td>male</td>\n",
       "      <td>25.0</td>\n",
       "      <td>0</td>\n",
       "      <td>0</td>\n",
       "      <td>2672</td>\n",
       "      <td>7.2250</td>\n",
       "      <td>NaN</td>\n",
       "      <td>C</td>\n",
       "    </tr>\n",
       "    <tr>\n",
       "      <th>124</th>\n",
       "      <td>125</td>\n",
       "      <td>1</td>\n",
       "      <td>White, Mr. Percival Wayland</td>\n",
       "      <td>male</td>\n",
       "      <td>54.0</td>\n",
       "      <td>0</td>\n",
       "      <td>1</td>\n",
       "      <td>35281</td>\n",
       "      <td>77.2875</td>\n",
       "      <td>D26</td>\n",
       "      <td>S</td>\n",
       "    </tr>\n",
       "    <tr>\n",
       "      <th>770</th>\n",
       "      <td>771</td>\n",
       "      <td>3</td>\n",
       "      <td>Lievens, Mr. Rene Aime</td>\n",
       "      <td>male</td>\n",
       "      <td>24.0</td>\n",
       "      <td>0</td>\n",
       "      <td>0</td>\n",
       "      <td>345781</td>\n",
       "      <td>9.5000</td>\n",
       "      <td>NaN</td>\n",
       "      <td>S</td>\n",
       "    </tr>\n",
       "    <tr>\n",
       "      <th>311</th>\n",
       "      <td>312</td>\n",
       "      <td>1</td>\n",
       "      <td>Ryerson, Miss. Emily Borie</td>\n",
       "      <td>female</td>\n",
       "      <td>18.0</td>\n",
       "      <td>2</td>\n",
       "      <td>2</td>\n",
       "      <td>PC 17608</td>\n",
       "      <td>262.3750</td>\n",
       "      <td>B57 B59 B63 B66</td>\n",
       "      <td>C</td>\n",
       "    </tr>\n",
       "    <tr>\n",
       "      <th>1</th>\n",
       "      <td>2</td>\n",
       "      <td>1</td>\n",
       "      <td>Cumings, Mrs. John Bradley (Florence Briggs Th...</td>\n",
       "      <td>female</td>\n",
       "      <td>38.0</td>\n",
       "      <td>1</td>\n",
       "      <td>0</td>\n",
       "      <td>PC 17599</td>\n",
       "      <td>71.2833</td>\n",
       "      <td>C85</td>\n",
       "      <td>C</td>\n",
       "    </tr>\n",
       "    <tr>\n",
       "      <th>...</th>\n",
       "      <td>...</td>\n",
       "      <td>...</td>\n",
       "      <td>...</td>\n",
       "      <td>...</td>\n",
       "      <td>...</td>\n",
       "      <td>...</td>\n",
       "      <td>...</td>\n",
       "      <td>...</td>\n",
       "      <td>...</td>\n",
       "      <td>...</td>\n",
       "      <td>...</td>\n",
       "    </tr>\n",
       "    <tr>\n",
       "      <th>229</th>\n",
       "      <td>230</td>\n",
       "      <td>3</td>\n",
       "      <td>Lefebre, Miss. Mathilde</td>\n",
       "      <td>female</td>\n",
       "      <td>NaN</td>\n",
       "      <td>3</td>\n",
       "      <td>1</td>\n",
       "      <td>4133</td>\n",
       "      <td>25.4667</td>\n",
       "      <td>NaN</td>\n",
       "      <td>S</td>\n",
       "    </tr>\n",
       "    <tr>\n",
       "      <th>731</th>\n",
       "      <td>732</td>\n",
       "      <td>3</td>\n",
       "      <td>Hassan, Mr. Houssein G N</td>\n",
       "      <td>male</td>\n",
       "      <td>11.0</td>\n",
       "      <td>0</td>\n",
       "      <td>0</td>\n",
       "      <td>2699</td>\n",
       "      <td>18.7875</td>\n",
       "      <td>NaN</td>\n",
       "      <td>C</td>\n",
       "    </tr>\n",
       "    <tr>\n",
       "      <th>227</th>\n",
       "      <td>228</td>\n",
       "      <td>3</td>\n",
       "      <td>Lovell, Mr. John Hall (\"Henry\")</td>\n",
       "      <td>male</td>\n",
       "      <td>20.5</td>\n",
       "      <td>0</td>\n",
       "      <td>0</td>\n",
       "      <td>A/5 21173</td>\n",
       "      <td>7.2500</td>\n",
       "      <td>NaN</td>\n",
       "      <td>S</td>\n",
       "    </tr>\n",
       "    <tr>\n",
       "      <th>751</th>\n",
       "      <td>752</td>\n",
       "      <td>3</td>\n",
       "      <td>Moor, Master. Meier</td>\n",
       "      <td>male</td>\n",
       "      <td>6.0</td>\n",
       "      <td>0</td>\n",
       "      <td>1</td>\n",
       "      <td>392096</td>\n",
       "      <td>12.4750</td>\n",
       "      <td>E121</td>\n",
       "      <td>S</td>\n",
       "    </tr>\n",
       "    <tr>\n",
       "      <th>645</th>\n",
       "      <td>646</td>\n",
       "      <td>1</td>\n",
       "      <td>Harper, Mr. Henry Sleeper</td>\n",
       "      <td>male</td>\n",
       "      <td>48.0</td>\n",
       "      <td>1</td>\n",
       "      <td>0</td>\n",
       "      <td>PC 17572</td>\n",
       "      <td>76.7292</td>\n",
       "      <td>D33</td>\n",
       "      <td>C</td>\n",
       "    </tr>\n",
       "  </tbody>\n",
       "</table>\n",
       "<p>143 rows × 11 columns</p>\n",
       "</div>"
      ],
      "text/plain": [
       "     PassengerId  Pclass                                               Name  \\\n",
       "693          694       3                                   Saad, Mr. Khalil   \n",
       "124          125       1                        White, Mr. Percival Wayland   \n",
       "770          771       3                             Lievens, Mr. Rene Aime   \n",
       "311          312       1                         Ryerson, Miss. Emily Borie   \n",
       "1              2       1  Cumings, Mrs. John Bradley (Florence Briggs Th...   \n",
       "..           ...     ...                                                ...   \n",
       "229          230       3                            Lefebre, Miss. Mathilde   \n",
       "731          732       3                           Hassan, Mr. Houssein G N   \n",
       "227          228       3                    Lovell, Mr. John Hall (\"Henry\")   \n",
       "751          752       3                                Moor, Master. Meier   \n",
       "645          646       1                          Harper, Mr. Henry Sleeper   \n",
       "\n",
       "        Sex   Age  SibSp  Parch     Ticket      Fare            Cabin Embarked  \n",
       "693    male  25.0      0      0       2672    7.2250              NaN        C  \n",
       "124    male  54.0      0      1      35281   77.2875              D26        S  \n",
       "770    male  24.0      0      0     345781    9.5000              NaN        S  \n",
       "311  female  18.0      2      2   PC 17608  262.3750  B57 B59 B63 B66        C  \n",
       "1    female  38.0      1      0   PC 17599   71.2833              C85        C  \n",
       "..      ...   ...    ...    ...        ...       ...              ...      ...  \n",
       "229  female   NaN      3      1       4133   25.4667              NaN        S  \n",
       "731    male  11.0      0      0       2699   18.7875              NaN        C  \n",
       "227    male  20.5      0      0  A/5 21173    7.2500              NaN        S  \n",
       "751    male   6.0      0      1     392096   12.4750             E121        S  \n",
       "645    male  48.0      1      0   PC 17572   76.7292              D33        C  \n",
       "\n",
       "[143 rows x 11 columns]"
      ]
     },
     "execution_count": 55,
     "metadata": {},
     "output_type": "execute_result"
    }
   ],
   "source": [
    "X_valid"
   ]
  },
  {
   "cell_type": "code",
   "execution_count": 328,
   "metadata": {},
   "outputs": [],
   "source": [
    "X_train = X_train.drop(['PassengerId', 'Name', 'Ticket', 'Cabin'], axis = 1)\n",
    "X_valid = X_valid.drop(['PassengerId','Name','Ticket','Cabin'], axis = 1)\n",
    "X_test = X_test.drop(['PassengerId','Name','Ticket','Cabin'], axis = 1)"
   ]
  },
  {
   "cell_type": "code",
   "execution_count": 329,
   "metadata": {},
   "outputs": [],
   "source": [
    "def prepare_num(df):\n",
    "    df_num = df.drop(['Sex', 'Embarked', 'Pclass'], axis=1)\n",
    "    df_sex = pd.get_dummies(df['Sex'])\n",
    "    df_emb = pd.get_dummies(df['Embarked'], prefix='Emb')\n",
    "    df_pcl = pd.get_dummies(df['Pclass'], prefix='Pclass')\n",
    "\n",
    "    df_num = pd.concat((df_num, df_sex, df_emb, df_pcl), axis=1)\n",
    "    return df_num"
   ]
  },
  {
   "cell_type": "code",
   "execution_count": 330,
   "metadata": {},
   "outputs": [],
   "source": [
    "X_train = prepare_num(X_train)\n",
    "X_valid = prepare_num(X_valid)\n",
    "X_test = prepare_num(X_test)\n",
    "X_test = X_test.fillna(X.median())\n",
    "X_valid = X_valid.fillna(X.median())\n",
    "X_train = X_train.fillna(X.median())"
   ]
  },
  {
   "cell_type": "code",
   "execution_count": 331,
   "metadata": {},
   "outputs": [],
   "source": [
    "from sklearn.preprocessing import MinMaxScaler\n",
    "scaler = MinMaxScaler()\n",
    "x_train = scaler.fit_transform(X_train)\n",
    "x_valid = scaler.transform(X_valid)\n",
    "x_test = scaler.transform(X_test)"
   ]
  },
  {
   "cell_type": "markdown",
   "metadata": {},
   "source": [
    "1.1 K-NN"
   ]
  },
  {
   "cell_type": "code",
   "execution_count": 169,
   "metadata": {},
   "outputs": [
    {
     "name": "stdout",
     "output_type": "stream",
     "text": [
      "accuracy_valid: 0.8041958041958042\n"
     ]
    }
   ],
   "source": [
    "model_knn = KNeighborsClassifier()\n",
    "model_knn.fit(x_train,Y_train)\n",
    "y_predict = model_knn.predict(x_valid)\n",
    "print(\"accuracy_valid:\", accuracy_score(y_predict, Y_valid))"
   ]
  },
  {
   "cell_type": "code",
   "execution_count": 170,
   "metadata": {},
   "outputs": [
    {
     "name": "stdout",
     "output_type": "stream",
     "text": [
      "accuracy_valid: 0.7972027972027972\n"
     ]
    }
   ],
   "source": [
    "model_knn = KNeighborsClassifier(n_neighbors=5, weights='distance', p = 2)\n",
    "model_knn.fit(x_train,Y_train)\n",
    "y_predict = model_knn.predict(x_valid)\n",
    "print(\"accuracy_valid:\", accuracy_score(y_predict, Y_valid))"
   ]
  },
  {
   "cell_type": "code",
   "execution_count": 171,
   "metadata": {},
   "outputs": [
    {
     "name": "stdout",
     "output_type": "stream",
     "text": [
      "accuracy_valid: 0.8111888111888111\n"
     ]
    }
   ],
   "source": [
    "model_knn = KNeighborsClassifier(n_neighbors=3, weights='uniform', p = 2)\n",
    "model_knn.fit(x_train,Y_train)\n",
    "y_predict = model_knn.predict(x_valid)\n",
    "print(\"accuracy_valid:\", accuracy_score(y_predict, Y_valid))"
   ]
  },
  {
   "cell_type": "code",
   "execution_count": 172,
   "metadata": {},
   "outputs": [
    {
     "name": "stdout",
     "output_type": "stream",
     "text": [
      "accuracy_valid: 0.7972027972027972\n"
     ]
    }
   ],
   "source": [
    "model_knn = KNeighborsClassifier(n_neighbors=30, weights='distance', p = 1)\n",
    "model_knn.fit(x_train,Y_train)\n",
    "y_predict = model_knn.predict(x_valid)\n",
    "print(\"accuracy_valid:\", accuracy_score(y_predict, Y_valid))"
   ]
  },
  {
   "cell_type": "code",
   "execution_count": 174,
   "metadata": {},
   "outputs": [
    {
     "name": "stdout",
     "output_type": "stream",
     "text": [
      "accuracy_test: 0.8156424581005587\n"
     ]
    }
   ],
   "source": [
    "model_knn = KNeighborsClassifier(n_neighbors=3, weights='uniform', p = 2)\n",
    "model_knn.fit(x_train,Y_train)\n",
    "y_predict = model_knn.predict(x_test)\n",
    "print(\"accuracy_test:\", accuracy_score(y_predict, Y_test))"
   ]
  },
  {
   "cell_type": "markdown",
   "metadata": {},
   "source": [
    "1.2 Logistic Regression"
   ]
  },
  {
   "cell_type": "code",
   "execution_count": 181,
   "metadata": {},
   "outputs": [
    {
     "name": "stdout",
     "output_type": "stream",
     "text": [
      "accuracy_valid: 0.7902097902097902\n"
     ]
    }
   ],
   "source": [
    "model_log_reg = LogisticRegression(penalty = 'none',C=1,solver = 'lbfgs')\n",
    "model_log_reg.fit(x_train,Y_train)\n",
    "y_predict = model_log_reg.predict(x_valid)\n",
    "print(\"accuracy_valid:\", accuracy_score(y_predict, Y_valid))"
   ]
  },
  {
   "cell_type": "code",
   "execution_count": 176,
   "metadata": {},
   "outputs": [
    {
     "name": "stdout",
     "output_type": "stream",
     "text": [
      "accuracy_valid: 0.7762237762237763\n"
     ]
    }
   ],
   "source": [
    "model_log_reg = LogisticRegression(penalty = 'l2',C=0.6,solver = 'newton-cg')\n",
    "model_log_reg.fit(x_train,Y_train)\n",
    "y_predict = model_log_reg.predict(x_valid)\n",
    "print(\"accuracy_valid:\", accuracy_score(y_predict, Y_valid))"
   ]
  },
  {
   "cell_type": "code",
   "execution_count": 177,
   "metadata": {},
   "outputs": [
    {
     "name": "stdout",
     "output_type": "stream",
     "text": [
      "accuracy_valid: 0.7692307692307693\n"
     ]
    }
   ],
   "source": [
    "model_log_reg = LogisticRegression(penalty = 'l1',C=1,solver = 'liblinear')\n",
    "model_log_reg.fit(x_train,Y_train)\n",
    "y_predict = model_log_reg.predict(x_valid)\n",
    "print(\"accuracy_valid:\", accuracy_score(y_predict, Y_valid))"
   ]
  },
  {
   "cell_type": "code",
   "execution_count": 178,
   "metadata": {},
   "outputs": [
    {
     "name": "stdout",
     "output_type": "stream",
     "text": [
      "accuracy_valid: 0.7902097902097902\n"
     ]
    }
   ],
   "source": [
    "model_log_reg = LogisticRegression(penalty = 'none',C=0.3,solver = 'saga')\n",
    "model_log_reg.fit(x_train,Y_train)\n",
    "y_predict = model_log_reg.predict(x_valid)\n",
    "print(\"accuracy_valid:\", accuracy_score(y_predict, Y_valid))"
   ]
  },
  {
   "cell_type": "code",
   "execution_count": 179,
   "metadata": {},
   "outputs": [
    {
     "name": "stdout",
     "output_type": "stream",
     "text": [
      "accuracy_test: 0.7932960893854749\n"
     ]
    }
   ],
   "source": [
    "model_log_reg = LogisticRegression(penalty = 'none',C=0.6,solver = 'lbfgs')\n",
    "model_log_reg.fit(x_train,Y_train)\n",
    "y_predict = model_log_reg.predict(x_test)\n",
    "print(\"accuracy_test:\", accuracy_score(y_predict, Y_test))"
   ]
  },
  {
   "cell_type": "markdown",
   "metadata": {},
   "source": [
    "1.3 XGBoost"
   ]
  },
  {
   "cell_type": "code",
   "execution_count": 215,
   "metadata": {},
   "outputs": [
    {
     "name": "stdout",
     "output_type": "stream",
     "text": [
      "accuracy_valid: 0.7972027972027972\n"
     ]
    }
   ],
   "source": [
    "model_xgboost = XGBClassifier(n_estimators=30, max_depth=4,learning_rate = 0.35)\n",
    "model_xgboost.fit(x_train,Y_train)\n",
    "y_predict = model_xgboost.predict(x_valid)\n",
    "print(\"accuracy_valid:\", accuracy_score(y_predict, Y_valid))"
   ]
  },
  {
   "cell_type": "code",
   "execution_count": 231,
   "metadata": {},
   "outputs": [
    {
     "name": "stdout",
     "output_type": "stream",
     "text": [
      "accuracy_valid: 0.8461538461538461\n"
     ]
    }
   ],
   "source": [
    "model_xgboost = XGBClassifier(n_estimators=9, max_depth=4,learning_rate = 0.5)\n",
    "model_xgboost.fit(x_train,Y_train)\n",
    "y_predict = model_xgboost.predict(x_valid)\n",
    "print(\"accuracy_valid:\", accuracy_score(y_predict, Y_valid))"
   ]
  },
  {
   "cell_type": "code",
   "execution_count": 217,
   "metadata": {},
   "outputs": [
    {
     "name": "stdout",
     "output_type": "stream",
     "text": [
      "accuracy_valid: 0.7902097902097902\n"
     ]
    }
   ],
   "source": [
    "model_xgboost = XGBClassifier(n_estimators=100, max_depth=4,learning_rate = 0.9)\n",
    "model_xgboost.fit(x_train,Y_train)\n",
    "y_predict = model_xgboost.predict(x_valid)\n",
    "print(\"accuracy_valid:\", accuracy_score(y_predict, Y_valid))"
   ]
  },
  {
   "cell_type": "code",
   "execution_count": 235,
   "metadata": {},
   "outputs": [
    {
     "name": "stdout",
     "output_type": "stream",
     "text": [
      "accuracy_test: 0.776536312849162\n"
     ]
    }
   ],
   "source": [
    "model_xgboost = XGBClassifier(n_estimators=9, max_depth=4,learning_rate = 0.5)\n",
    "model_xgboost.fit(x_train,Y_train)\n",
    "y_predict = model_xgboost.predict(x_test)\n",
    "print(\"accuracy_test:\", accuracy_score(y_predict, Y_test))"
   ]
  },
  {
   "cell_type": "markdown",
   "metadata": {},
   "source": [
    "1.4 Random forest"
   ]
  },
  {
   "cell_type": "code",
   "execution_count": 236,
   "metadata": {},
   "outputs": [
    {
     "name": "stdout",
     "output_type": "stream",
     "text": [
      "accuracy_valid: 0.7902097902097902\n"
     ]
    }
   ],
   "source": [
    "model_rand_forest = RandomForestClassifier(n_estimators=20, max_depth=4, criterion='entropy')\n",
    "model_rand_forest.fit(x_train,Y_train)\n",
    "y_predict = model_rand_forest.predict(x_valid)\n",
    "print(\"accuracy_valid:\", accuracy_score(y_predict, Y_valid))"
   ]
  },
  {
   "cell_type": "code",
   "execution_count": 243,
   "metadata": {},
   "outputs": [
    {
     "name": "stdout",
     "output_type": "stream",
     "text": [
      "accuracy_valid: 0.8111888111888111\n"
     ]
    }
   ],
   "source": [
    "model_rand_forest = RandomForestClassifier(n_estimators=200, max_depth=4, criterion='entropy')\n",
    "model_rand_forest.fit(x_train,Y_train)\n",
    "y_predict = model_rand_forest.predict(x_valid)\n",
    "print(\"accuracy_valid:\", accuracy_score(y_predict, Y_valid))"
   ]
  },
  {
   "cell_type": "code",
   "execution_count": 254,
   "metadata": {},
   "outputs": [
    {
     "name": "stdout",
     "output_type": "stream",
     "text": [
      "accuracy_valid: 0.8111888111888111\n"
     ]
    }
   ],
   "source": [
    "model_rand_forest = RandomForestClassifier(n_estimators=100, max_depth=6, criterion='gini')\n",
    "model_rand_forest.fit(x_train,Y_train)\n",
    "y_predict = model_rand_forest.predict(x_valid)\n",
    "print(\"accuracy_valid:\", accuracy_score(y_predict, Y_valid))"
   ]
  },
  {
   "cell_type": "code",
   "execution_count": 255,
   "metadata": {},
   "outputs": [
    {
     "name": "stdout",
     "output_type": "stream",
     "text": [
      "accuracy_test: 0.776536312849162\n"
     ]
    }
   ],
   "source": [
    "model_rand_forest = RandomForestClassifier(n_estimators=100, max_depth=6, criterion='gini')\n",
    "model_rand_forest.fit(x_train,Y_train)\n",
    "y_predict = model_rand_forest.predict(x_test)\n",
    "print(\"accuracy_test:\", accuracy_score(y_predict, Y_test))"
   ]
  },
  {
   "cell_type": "markdown",
   "metadata": {},
   "source": [
    "# 2. Важные признаки"
   ]
  },
  {
   "cell_type": "code",
   "execution_count": 332,
   "metadata": {},
   "outputs": [
    {
     "data": {
      "image/png": "[encoded data removed]",
      "text/plain": [
       "<Figure size 432x288 with 1 Axes>"
      ]
     },
     "metadata": {
      "needs_background": "light"
     },
     "output_type": "display_data"
    }
   ],
   "source": [
    "model_rand_forest = RandomForestClassifier(n_estimators=100, max_depth=6, criterion='gini')\n",
    "model_rand_forest.fit(x_train,Y_train)\n",
    "\n",
    "importances = model_rand_forest.feature_importances_\n",
    "features = X_train.columns\n",
    "indices = np.argsort(importances)\n",
    "\n",
    "plt.title('Важность признаков')\n",
    "plt.barh(range(len(indices)), importances[indices], color='b', align='center')\n",
    "plt.yticks(range(len(indices)), features[indices])\n",
    "plt.xlabel('Относительная важность')\n",
    "plt.show()"
   ]
  },
  {
   "cell_type": "markdown",
   "metadata": {},
   "source": [
    " 2.1. 2 самых важных"
   ]
  },
  {
   "cell_type": "code",
   "execution_count": 333,
   "metadata": {},
   "outputs": [],
   "source": [
    "feature2 = features[indices][-2:]\n",
    "X_train2 = X_train[feature2]\n",
    "X_test2 = X_test[feature2]"
   ]
  },
  {
   "cell_type": "code",
   "execution_count": 345,
   "metadata": {},
   "outputs": [],
   "source": [
    "scaler = MinMaxScaler()\n",
    "x_train2 = scaler.fit_transform(X_train2)\n",
    "x_test2 = scaler.transform(X_test2)"
   ]
  },
  {
   "cell_type": "code",
   "execution_count": 336,
   "metadata": {},
   "outputs": [
    {
     "name": "stdout",
     "output_type": "stream",
     "text": [
      "rand_forest accuracy_test: 0.776536312849162\n"
     ]
    }
   ],
   "source": [
    "model_rand_forest = RandomForestClassifier(n_estimators=100, max_depth=6, criterion='gini')\n",
    "model_rand_forest.fit(x_train2,Y_train)\n",
    "y_predict = model_rand_forest.predict(x_test2)\n",
    "print(\"rand_forest accuracy_test:\", accuracy_score(y_predict, Y_test))"
   ]
  },
  {
   "cell_type": "code",
   "execution_count": 350,
   "metadata": {},
   "outputs": [
    {
     "name": "stdout",
     "output_type": "stream",
     "text": [
      "xgboost accuracy_test: 0.776536312849162\n"
     ]
    }
   ],
   "source": [
    "model_xgboost = XGBClassifier(n_estimators=9, max_depth=4,learning_rate = 0.5)\n",
    "model_xgboost.fit(x_train2,Y_train)\n",
    "y_predict = model_xgboost.predict(x_test2)\n",
    "print(\"xgboost accuracy_test:\", accuracy_score(y_predict, Y_test))"
   ]
  },
  {
   "cell_type": "code",
   "execution_count": 340,
   "metadata": {},
   "outputs": [
    {
     "name": "stdout",
     "output_type": "stream",
     "text": [
      "log_reg accuracy_test: 0.776536312849162\n"
     ]
    }
   ],
   "source": [
    "model_log_reg = LogisticRegression(penalty = 'none',C=0.6,solver = 'lbfgs')\n",
    "model_log_reg.fit(x_train2,Y_train)\n",
    "y_predict = model_log_reg.predict(x_test2)\n",
    "print(\"log_reg accuracy_test:\", accuracy_score(y_predict, Y_test))"
   ]
  },
  {
   "cell_type": "code",
   "execution_count": 342,
   "metadata": {},
   "outputs": [
    {
     "name": "stdout",
     "output_type": "stream",
     "text": [
      "knn accuracy_test: 0.776536312849162\n"
     ]
    }
   ],
   "source": [
    "model_knn = KNeighborsClassifier(n_neighbors=3, weights='uniform', p = 2)\n",
    "model_knn.fit(x_train2,Y_train)\n",
    "y_predict = model_knn.predict(x_test2)\n",
    "print(\"knn accuracy_test:\", accuracy_score(y_predict, Y_test))"
   ]
  },
  {
   "cell_type": "markdown",
   "metadata": {},
   "source": [
    " 2.2. 4 самых важных"
   ]
  },
  {
   "cell_type": "code",
   "execution_count": 347,
   "metadata": {},
   "outputs": [],
   "source": [
    "feature4 = features[indices][-4:]\n",
    "X_train4 = X_train[feature4]\n",
    "X_test4 = X_test[feature4]"
   ]
  },
  {
   "cell_type": "code",
   "execution_count": 348,
   "metadata": {},
   "outputs": [],
   "source": [
    "x_train4 = scaler.fit_transform(X_train4)\n",
    "x_test4 = scaler.transform(X_test4)"
   ]
  },
  {
   "cell_type": "code",
   "execution_count": 349,
   "metadata": {},
   "outputs": [
    {
     "name": "stdout",
     "output_type": "stream",
     "text": [
      "rand_forest accuracy_test: 0.8044692737430168\n"
     ]
    }
   ],
   "source": [
    "model_rand_forest = RandomForestClassifier(n_estimators=100, max_depth=6, criterion='gini')\n",
    "model_rand_forest.fit(x_train4,Y_train)\n",
    "y_predict = model_rand_forest.predict(x_test4)\n",
    "print(\"rand_forest accuracy_test:\", accuracy_score(y_predict, Y_test))"
   ]
  },
  {
   "cell_type": "code",
   "execution_count": 351,
   "metadata": {},
   "outputs": [
    {
     "name": "stdout",
     "output_type": "stream",
     "text": [
      "xgboost accuracy_test: 0.776536312849162\n"
     ]
    }
   ],
   "source": [
    "model_xgboost = XGBClassifier(n_estimators=9, max_depth=4,learning_rate = 0.5)\n",
    "model_xgboost.fit(x_train4,Y_train)\n",
    "y_predict = model_xgboost.predict(x_test4)\n",
    "print(\"xgboost accuracy_test:\", accuracy_score(y_predict, Y_test))"
   ]
  },
  {
   "cell_type": "code",
   "execution_count": 352,
   "metadata": {},
   "outputs": [
    {
     "name": "stdout",
     "output_type": "stream",
     "text": [
      "log_reg accuracy_test: 0.7821229050279329\n"
     ]
    }
   ],
   "source": [
    "model_log_reg = LogisticRegression(penalty = 'none',C=0.6,solver = 'lbfgs')\n",
    "model_log_reg.fit(x_train4,Y_train)\n",
    "y_predict = model_log_reg.predict(x_test4)\n",
    "print(\"log_reg accuracy_test:\", accuracy_score(y_predict, Y_test))"
   ]
  },
  {
   "cell_type": "code",
   "execution_count": 353,
   "metadata": {},
   "outputs": [
    {
     "name": "stdout",
     "output_type": "stream",
     "text": [
      "knn accuracy_test: 0.7430167597765364\n"
     ]
    }
   ],
   "source": [
    "model_knn = KNeighborsClassifier(n_neighbors=3, weights='uniform', p = 2)\n",
    "model_knn.fit(x_train4,Y_train)\n",
    "y_predict = model_knn.predict(x_test4)\n",
    "print(\"knn accuracy_test:\", accuracy_score(y_predict, Y_test))"
   ]
  },
  {
   "cell_type": "markdown",
   "metadata": {},
   "source": [
    "2.3. 8 самых важных"
   ]
  },
  {
   "cell_type": "code",
   "execution_count": 354,
   "metadata": {},
   "outputs": [],
   "source": [
    "feature8 = features[indices][-8:]\n",
    "X_train8 = X_train[feature8]\n",
    "X_test8 = X_test[feature8]"
   ]
  },
  {
   "cell_type": "code",
   "execution_count": 355,
   "metadata": {},
   "outputs": [],
   "source": [
    "x_train8 = scaler.fit_transform(X_train8)\n",
    "x_test8 = scaler.transform(X_test8)"
   ]
  },
  {
   "cell_type": "code",
   "execution_count": 356,
   "metadata": {},
   "outputs": [
    {
     "name": "stdout",
     "output_type": "stream",
     "text": [
      "rand_forest accuracy_test: 0.7877094972067039\n"
     ]
    }
   ],
   "source": [
    "model_rand_forest = RandomForestClassifier(n_estimators=100, max_depth=6, criterion='gini')\n",
    "model_rand_forest.fit(x_train8,Y_train)\n",
    "y_predict = model_rand_forest.predict(x_test8)\n",
    "print(\"rand_forest accuracy_test:\", accuracy_score(y_predict, Y_test))"
   ]
  },
  {
   "cell_type": "code",
   "execution_count": 357,
   "metadata": {},
   "outputs": [
    {
     "name": "stdout",
     "output_type": "stream",
     "text": [
      "xgboost accuracy_test: 0.8100558659217877\n"
     ]
    }
   ],
   "source": [
    "model_xgboost = XGBClassifier(n_estimators=9, max_depth=4,learning_rate = 0.5)\n",
    "model_xgboost.fit(x_train8,Y_train)\n",
    "y_predict = model_xgboost.predict(x_test8)\n",
    "print(\"xgboost accuracy_test:\", accuracy_score(y_predict, Y_test))"
   ]
  },
  {
   "cell_type": "code",
   "execution_count": 358,
   "metadata": {},
   "outputs": [
    {
     "name": "stdout",
     "output_type": "stream",
     "text": [
      "log_reg accuracy_test: 0.7988826815642458\n"
     ]
    }
   ],
   "source": [
    "model_log_reg = LogisticRegression(penalty = 'none',C=0.6,solver = 'lbfgs')\n",
    "model_log_reg.fit(x_train8,Y_train)\n",
    "y_predict = model_log_reg.predict(x_test8)\n",
    "print(\"log_reg accuracy_test:\", accuracy_score(y_predict, Y_test))"
   ]
  },
  {
   "cell_type": "code",
   "execution_count": 359,
   "metadata": {},
   "outputs": [
    {
     "name": "stdout",
     "output_type": "stream",
     "text": [
      "knn accuracy_test: 0.7821229050279329\n"
     ]
    }
   ],
   "source": [
    "model_knn = KNeighborsClassifier(n_neighbors=3, weights='uniform', p = 2)\n",
    "model_knn.fit(x_train8,Y_train)\n",
    "y_predict = model_knn.predict(x_test8)\n",
    "print(\"knn accuracy_test:\", accuracy_score(y_predict, Y_test))"
   ]
  },
  {
   "cell_type": "markdown",
   "metadata": {},
   "source": [
    "# 3. Кластеризация"
   ]
  },
  {
   "cell_type": "code",
   "execution_count": 1,
   "metadata": {},
   "outputs": [],
   "source": [
    "from sklearn.cluster import KMeans"
   ]
  },
  {
   "cell_type": "code",
   "execution_count": 3,
   "metadata": {},
   "outputs": [],
   "source": [
    "wells_info_df = pd.read_csv(\"wells_info.csv\")"
   ]
  },
  {
   "cell_type": "code",
   "execution_count": 5,
   "metadata": {},
   "outputs": [],
   "source": [
    "data = wells_info_df[['BottomHoleLatitude','BottomHoleLongitude']]"
   ]
  },
  {
   "cell_type": "code",
   "execution_count": 20,
   "metadata": {},
   "outputs": [
    {
     "data": {
      "text/plain": [
       "<matplotlib.collections.PathCollection at 0x1c09ca084f0>"
      ]
     },
     "execution_count": 20,
     "metadata": {},
     "output_type": "execute_result"
    },
    {
     "data": {
      "image/png": "[encoded data removed]",
      "text/plain": [
       "<Figure size 432x288 with 1 Axes>"
      ]
     },
     "metadata": {
      "needs_background": "light"
     },
     "output_type": "display_data"
    }
   ],
   "source": [
    "plt.scatter(data['BottomHoleLatitude'],data['BottomHoleLongitude'])"
   ]
  },
  {
   "cell_type": "markdown",
   "metadata": {},
   "source": [
    "3.1 K-means"
   ]
  },
  {
   "cell_type": "code",
   "execution_count": 33,
   "metadata": {},
   "outputs": [],
   "source": [
    "crit = []\n",
    "for i in range(2,8):\n",
    "    kmeans = KMeans(n_clusters=i,random_state = 1)\n",
    "    kmeans.fit(data)\n",
    "    crit.append(kmeans.inertia_)"
   ]
  },
  {
   "cell_type": "code",
   "execution_count": 34,
   "metadata": {},
   "outputs": [
    {
     "data": {
      "text/plain": [
       "[<matplotlib.lines.Line2D at 0x1c09e5dfbe0>]"
      ]
     },
     "execution_count": 34,
     "metadata": {},
     "output_type": "execute_result"
    },
    {
     "data": {
      "image/png": "[encoded data removed]",
      "text/plain": [
       "<Figure size 432x288 with 1 Axes>"
      ]
     },
     "metadata": {
      "needs_background": "light"
     },
     "output_type": "display_data"
    }
   ],
   "source": [
    "plt.plot(range(2,8), crit)"
   ]
  },
  {
   "cell_type": "code",
   "execution_count": 24,
   "metadata": {},
   "outputs": [
    {
     "data": {
      "text/plain": [
       "KMeans(n_clusters=5)"
      ]
     },
     "execution_count": 24,
     "metadata": {},
     "output_type": "execute_result"
    }
   ],
   "source": [
    "kmeans = KMeans(n_clusters=5)\n",
    "kmeans.fit(data)"
   ]
  },
  {
   "cell_type": "code",
   "execution_count": 25,
   "metadata": {},
   "outputs": [],
   "source": [
    "labels = kmeans.labels_"
   ]
  },
  {
   "cell_type": "code",
   "execution_count": 26,
   "metadata": {},
   "outputs": [
    {
     "data": {
      "text/plain": [
       "<matplotlib.collections.PathCollection at 0x1c09e062670>"
      ]
     },
     "execution_count": 26,
     "metadata": {},
     "output_type": "execute_result"
    },
    {
     "data": {
      "image/png": "[encoded data removed]",
      "text/plain": [
       "<Figure size 432x288 with 1 Axes>"
      ]
     },
     "metadata": {
      "needs_background": "light"
     },
     "output_type": "display_data"
    }
   ],
   "source": [
    "plt.scatter(data['BottomHoleLatitude'],data['BottomHoleLongitude'], c=labels)"
   ]
  },
  {
   "cell_type": "markdown",
   "metadata": {},
   "source": [
    "3.2 DBSCAN"
   ]
  },
  {
   "cell_type": "code",
   "execution_count": 36,
   "metadata": {},
   "outputs": [],
   "source": [
    "from sklearn.cluster import DBSCAN"
   ]
  },
  {
   "cell_type": "code",
   "execution_count": 64,
   "metadata": {},
   "outputs": [
    {
     "data": {
      "text/plain": [
       "<matplotlib.collections.PathCollection at 0x1c09e398130>"
      ]
     },
     "execution_count": 64,
     "metadata": {},
     "output_type": "execute_result"
    },
    {
     "data": {
      "image/png": "[encoded data removed]",
      "text/plain": [
       "<Figure size 432x288 with 1 Axes>"
      ]
     },
     "metadata": {
      "needs_background": "light"
     },
     "output_type": "display_data"
    }
   ],
   "source": [
    "dbscan = DBSCAN(eps = 1, min_samples=5)\n",
    "dbscan.fit(data)\n",
    "labels = dbscan.labels_\n",
    "plt.scatter(data['BottomHoleLatitude'],data['BottomHoleLongitude'], c=labels)"
   ]
  },
  {
   "cell_type": "markdown",
   "metadata": {},
   "source": [
    "3.3 MeanShift"
   ]
  },
  {
   "cell_type": "code",
   "execution_count": 66,
   "metadata": {},
   "outputs": [],
   "source": [
    "from sklearn.cluster import MeanShift"
   ]
  },
  {
   "cell_type": "code",
   "execution_count": 70,
   "metadata": {},
   "outputs": [
    {
     "data": {
      "text/plain": [
       "<matplotlib.collections.PathCollection at 0x1c09fd3cb50>"
      ]
     },
     "execution_count": 70,
     "metadata": {},
     "output_type": "execute_result"
    },
    {
     "data": {
      "image/png": "[encoded data removed]",
      "text/plain": [
       "<Figure size 432x288 with 1 Axes>"
      ]
     },
     "metadata": {
      "needs_background": "light"
     },
     "output_type": "display_data"
    }
   ],
   "source": [
    "mean_shift = MeanShift(bandwidth=1)\n",
    "mean_shift.fit(data)\n",
    "labels = mean_shift.labels_\n",
    "plt.scatter(data['BottomHoleLatitude'],data['BottomHoleLongitude'], c=labels)"
   ]
  },
  {
   "cell_type": "markdown",
   "metadata": {},
   "source": [
    "3.4 Birch"
   ]
  },
  {
   "cell_type": "code",
   "execution_count": 71,
   "metadata": {},
   "outputs": [],
   "source": [
    "from sklearn.cluster import Birch"
   ]
  },
  {
   "cell_type": "code",
   "execution_count": 73,
   "metadata": {},
   "outputs": [
    {
     "data": {
      "text/plain": [
       "<matplotlib.collections.PathCollection at 0x1c09df771c0>"
      ]
     },
     "execution_count": 73,
     "metadata": {},
     "output_type": "execute_result"
    },
    {
     "data": {
      "image/png": "[encoded data removed]",
      "text/plain": [
       "<Figure size 432x288 with 1 Axes>"
      ]
     },
     "metadata": {
      "needs_background": "light"
     },
     "output_type": "display_data"
    }
   ],
   "source": [
    "birch = Birch(n_clusters = 5)\n",
    "birch.fit(data)\n",
    "labels = birch.labels_\n",
    "plt.scatter(data['BottomHoleLatitude'],data['BottomHoleLongitude'], c=labels)"
   ]
  },
  {
   "cell_type": "markdown",
   "metadata": {},
   "source": [
    "# 4.t-SNE"
   ]
  },
  {
   "cell_type": "code",
   "execution_count": 74,
   "metadata": {},
   "outputs": [
    {
     "data": {
      "text/html": [
       "<div>\n",
       "<style scoped>\n",
       "    .dataframe tbody tr th:only-of-type {\n",
       "        vertical-align: middle;\n",
       "    }\n",
       "\n",
       "    .dataframe tbody tr th {\n",
       "        vertical-align: top;\n",
       "    }\n",
       "\n",
       "    .dataframe thead th {\n",
       "        text-align: right;\n",
       "    }\n",
       "</style>\n",
       "<table border=\"1\" class=\"dataframe\">\n",
       "  <thead>\n",
       "    <tr style=\"text-align: right;\">\n",
       "      <th></th>\n",
       "      <th>API</th>\n",
       "      <th>PermitDate</th>\n",
       "      <th>SpudDate</th>\n",
       "      <th>CompletionDate</th>\n",
       "      <th>FirstProductionDate</th>\n",
       "      <th>operatorNameIHS</th>\n",
       "      <th>formation</th>\n",
       "      <th>BasinName</th>\n",
       "      <th>StateName</th>\n",
       "      <th>CountyName</th>\n",
       "      <th>LatWGS84</th>\n",
       "      <th>LonWGS84</th>\n",
       "      <th>BottomHoleLatitude</th>\n",
       "      <th>BottomHoleLongitude</th>\n",
       "      <th>LATERAL_LENGTH_BLEND</th>\n",
       "      <th>PROP_PER_FOOT</th>\n",
       "      <th>WATER_PER_FOOT</th>\n",
       "      <th>Prod1Year</th>\n",
       "      <th>ProdAll</th>\n",
       "    </tr>\n",
       "  </thead>\n",
       "  <tbody>\n",
       "    <tr>\n",
       "      <th>0</th>\n",
       "      <td>5005072170100</td>\n",
       "      <td>2014-05-06</td>\n",
       "      <td>2014-05-06</td>\n",
       "      <td>2014-12-02</td>\n",
       "      <td>2014-11-01 00:00:00.000</td>\n",
       "      <td>BURLINGTON RESOURCES O&amp;G CO LP</td>\n",
       "      <td>NIOBRARA</td>\n",
       "      <td>DENVER BASIN</td>\n",
       "      <td>COLORADO</td>\n",
       "      <td>ARAPAHOE</td>\n",
       "      <td>39.684606</td>\n",
       "      <td>-104.642128</td>\n",
       "      <td>39.68445</td>\n",
       "      <td>-104.60557</td>\n",
       "      <td>9005.0</td>\n",
       "      <td>994.6866</td>\n",
       "      <td>591.800400</td>\n",
       "      <td>126898</td>\n",
       "      <td>201325</td>\n",
       "    </tr>\n",
       "    <tr>\n",
       "      <th>1</th>\n",
       "      <td>5123377130000</td>\n",
       "      <td>2013-07-21</td>\n",
       "      <td>2013-10-06</td>\n",
       "      <td>2014-02-26</td>\n",
       "      <td>2014-02-01 00:00:00.000</td>\n",
       "      <td>SRC ENERGY INCORPORATED</td>\n",
       "      <td>NIOBRARA</td>\n",
       "      <td>DENVER BASIN</td>\n",
       "      <td>COLORADO</td>\n",
       "      <td>WELD</td>\n",
       "      <td>40.509320</td>\n",
       "      <td>-104.780980</td>\n",
       "      <td>40.49692</td>\n",
       "      <td>-104.77859</td>\n",
       "      <td>4195.0</td>\n",
       "      <td>991.5857</td>\n",
       "      <td>628.632100</td>\n",
       "      <td>22616</td>\n",
       "      <td>34625</td>\n",
       "    </tr>\n",
       "    <tr>\n",
       "      <th>2</th>\n",
       "      <td>5123379280000</td>\n",
       "      <td>2013-09-08</td>\n",
       "      <td>2013-09-25</td>\n",
       "      <td>2014-09-07</td>\n",
       "      <td>2013-11-01 00:00:00.000</td>\n",
       "      <td>BONANZA CREEK ENERGY OPERATING CO LLC</td>\n",
       "      <td>NIOBRARA</td>\n",
       "      <td>DENVER BASIN</td>\n",
       "      <td>COLORADO</td>\n",
       "      <td>WELD</td>\n",
       "      <td>40.335390</td>\n",
       "      <td>-104.363000</td>\n",
       "      <td>40.34780</td>\n",
       "      <td>-104.36863</td>\n",
       "      <td>4273.0</td>\n",
       "      <td>1000.2760</td>\n",
       "      <td>564.484100</td>\n",
       "      <td>47523</td>\n",
       "      <td>69009</td>\n",
       "    </tr>\n",
       "    <tr>\n",
       "      <th>3</th>\n",
       "      <td>5123379400000</td>\n",
       "      <td>2013-09-11</td>\n",
       "      <td>2014-12-05</td>\n",
       "      <td>2015-03-31</td>\n",
       "      <td>2015-03-01 00:00:00.000</td>\n",
       "      <td>NOBLE ENERGY INCORPORATED</td>\n",
       "      <td>NIOBRARA</td>\n",
       "      <td>DENVER BASIN</td>\n",
       "      <td>COLORADO</td>\n",
       "      <td>WELD</td>\n",
       "      <td>40.152220</td>\n",
       "      <td>-104.530780</td>\n",
       "      <td>40.17445</td>\n",
       "      <td>-104.52932</td>\n",
       "      <td>7078.0</td>\n",
       "      <td>973.4437</td>\n",
       "      <td>824.002000</td>\n",
       "      <td>59474</td>\n",
       "      <td>81048</td>\n",
       "    </tr>\n",
       "    <tr>\n",
       "      <th>4</th>\n",
       "      <td>5123385820100</td>\n",
       "      <td>2014-01-07</td>\n",
       "      <td>2014-01-13</td>\n",
       "      <td>2014-04-23</td>\n",
       "      <td>2014-04-01 00:00:00.000</td>\n",
       "      <td>GREAT WESTERN OPERATING COMPANY LLC</td>\n",
       "      <td>NIOBRARA</td>\n",
       "      <td>DENVER BASIN</td>\n",
       "      <td>COLORADO</td>\n",
       "      <td>WELD</td>\n",
       "      <td>40.508303</td>\n",
       "      <td>-104.868180</td>\n",
       "      <td>40.49558</td>\n",
       "      <td>-104.86757</td>\n",
       "      <td>3211.0</td>\n",
       "      <td>783.5919</td>\n",
       "      <td>603.141400</td>\n",
       "      <td>14427</td>\n",
       "      <td>18050</td>\n",
       "    </tr>\n",
       "    <tr>\n",
       "      <th>5</th>\n",
       "      <td>5123390320000</td>\n",
       "      <td>2014-02-27</td>\n",
       "      <td>2014-06-20</td>\n",
       "      <td>2014-10-30</td>\n",
       "      <td>2014-10-01 00:00:00.000</td>\n",
       "      <td>NOBLE ENERGY INCORPORATED</td>\n",
       "      <td>NIOBRARA</td>\n",
       "      <td>DENVER BASIN</td>\n",
       "      <td>COLORADO</td>\n",
       "      <td>WELD</td>\n",
       "      <td>40.520989</td>\n",
       "      <td>-104.450861</td>\n",
       "      <td>40.52100</td>\n",
       "      <td>-104.46772</td>\n",
       "      <td>4259.0</td>\n",
       "      <td>1011.0440</td>\n",
       "      <td>698.681900</td>\n",
       "      <td>24340</td>\n",
       "      <td>38365</td>\n",
       "    </tr>\n",
       "    <tr>\n",
       "      <th>6</th>\n",
       "      <td>5123390440000</td>\n",
       "      <td>2014-02-28</td>\n",
       "      <td>2014-04-26</td>\n",
       "      <td>2014-08-16</td>\n",
       "      <td>2014-08-01 00:00:00.000</td>\n",
       "      <td>KERR-MCGEE OIL &amp; GAS ONSHORE LP</td>\n",
       "      <td>NIOBRARA</td>\n",
       "      <td>DENVER BASIN</td>\n",
       "      <td>COLORADO</td>\n",
       "      <td>WELD</td>\n",
       "      <td>40.118872</td>\n",
       "      <td>-104.789372</td>\n",
       "      <td>40.13079</td>\n",
       "      <td>-104.78716</td>\n",
       "      <td>4518.0</td>\n",
       "      <td>469.8262</td>\n",
       "      <td>798.167600</td>\n",
       "      <td>72997</td>\n",
       "      <td>108032</td>\n",
       "    </tr>\n",
       "    <tr>\n",
       "      <th>7</th>\n",
       "      <td>5123392690000</td>\n",
       "      <td>2014-04-14</td>\n",
       "      <td>2015-03-20</td>\n",
       "      <td>2015-08-03</td>\n",
       "      <td>2015-07-01 00:00:00.000</td>\n",
       "      <td>CRESTONE PEAK RESOURCES OPERATING LLC</td>\n",
       "      <td>NIOBRARA</td>\n",
       "      <td>DENVER BASIN</td>\n",
       "      <td>COLORADO</td>\n",
       "      <td>WELD</td>\n",
       "      <td>40.147015</td>\n",
       "      <td>-104.898342</td>\n",
       "      <td>40.16105</td>\n",
       "      <td>-104.89340</td>\n",
       "      <td>4975.0</td>\n",
       "      <td>1267.8870</td>\n",
       "      <td>835.992800</td>\n",
       "      <td>44543</td>\n",
       "      <td>77472</td>\n",
       "    </tr>\n",
       "    <tr>\n",
       "      <th>8</th>\n",
       "      <td>5123399750000</td>\n",
       "      <td>2014-08-09</td>\n",
       "      <td>2014-11-14</td>\n",
       "      <td>2015-04-16</td>\n",
       "      <td>2015-04-01 00:00:00.000</td>\n",
       "      <td>KERR-MCGEE OIL &amp; GAS ONSHORE LP</td>\n",
       "      <td>NIOBRARA</td>\n",
       "      <td>DENVER BASIN</td>\n",
       "      <td>COLORADO</td>\n",
       "      <td>WELD</td>\n",
       "      <td>40.263373</td>\n",
       "      <td>-104.727955</td>\n",
       "      <td>40.27426</td>\n",
       "      <td>-104.73307</td>\n",
       "      <td>4786.0</td>\n",
       "      <td>805.9642</td>\n",
       "      <td>1133.333000</td>\n",
       "      <td>21150</td>\n",
       "      <td>39758</td>\n",
       "    </tr>\n",
       "    <tr>\n",
       "      <th>9</th>\n",
       "      <td>5123402600000</td>\n",
       "      <td>2014-09-22</td>\n",
       "      <td>2015-06-16</td>\n",
       "      <td>2015-09-13</td>\n",
       "      <td>2015-09-01 00:00:00.000</td>\n",
       "      <td>EXTRACTION OIL &amp; GAS LLC</td>\n",
       "      <td>CODELL</td>\n",
       "      <td>DENVER BASIN</td>\n",
       "      <td>COLORADO</td>\n",
       "      <td>WELD</td>\n",
       "      <td>40.353967</td>\n",
       "      <td>-104.944679</td>\n",
       "      <td>40.35440</td>\n",
       "      <td>-104.96173</td>\n",
       "      <td>4195.0</td>\n",
       "      <td>926.5010</td>\n",
       "      <td>403.322300</td>\n",
       "      <td>55181</td>\n",
       "      <td>91774</td>\n",
       "    </tr>\n",
       "    <tr>\n",
       "      <th>10</th>\n",
       "      <td>5123409020000</td>\n",
       "      <td>2014-12-23</td>\n",
       "      <td>2015-02-07</td>\n",
       "      <td>2015-09-07</td>\n",
       "      <td>2015-09-01 00:00:00.000</td>\n",
       "      <td>NOBLE ENERGY INCORPORATED</td>\n",
       "      <td>NIOBRARA</td>\n",
       "      <td>DENVER BASIN</td>\n",
       "      <td>COLORADO</td>\n",
       "      <td>WELD</td>\n",
       "      <td>40.482361</td>\n",
       "      <td>-104.468261</td>\n",
       "      <td>40.48424</td>\n",
       "      <td>-104.45072</td>\n",
       "      <td>4240.0</td>\n",
       "      <td>697.0967</td>\n",
       "      <td>983.059900</td>\n",
       "      <td>33969</td>\n",
       "      <td>48796</td>\n",
       "    </tr>\n",
       "    <tr>\n",
       "      <th>11</th>\n",
       "      <td>5123410480000</td>\n",
       "      <td>2015-01-21</td>\n",
       "      <td>2015-03-16</td>\n",
       "      <td>2015-04-23</td>\n",
       "      <td>2015-04-01 00:00:00.000</td>\n",
       "      <td>BONANZA CREEK ENERGY OPERATING CO LLC</td>\n",
       "      <td>NIOBRARA</td>\n",
       "      <td>DENVER BASIN</td>\n",
       "      <td>COLORADO</td>\n",
       "      <td>WELD</td>\n",
       "      <td>40.433139</td>\n",
       "      <td>-104.298585</td>\n",
       "      <td>40.43460</td>\n",
       "      <td>-104.28176</td>\n",
       "      <td>4294.0</td>\n",
       "      <td>896.9146</td>\n",
       "      <td>604.394700</td>\n",
       "      <td>30361</td>\n",
       "      <td>40916</td>\n",
       "    </tr>\n",
       "    <tr>\n",
       "      <th>12</th>\n",
       "      <td>30015414470000</td>\n",
       "      <td>2013-06-07</td>\n",
       "      <td>2013-10-06</td>\n",
       "      <td>2014-01-07</td>\n",
       "      <td>2013-12-01 00:00:00.000</td>\n",
       "      <td>OXY USA INC</td>\n",
       "      <td>BONE SPRING</td>\n",
       "      <td>PERMIAN BASIN</td>\n",
       "      <td>NEW MEXICO</td>\n",
       "      <td>EDDY</td>\n",
       "      <td>32.312443</td>\n",
       "      <td>-104.030511</td>\n",
       "      <td>32.31051</td>\n",
       "      <td>-104.01594</td>\n",
       "      <td>3790.0</td>\n",
       "      <td>648.1232</td>\n",
       "      <td>477.618100</td>\n",
       "      <td>42353</td>\n",
       "      <td>70044</td>\n",
       "    </tr>\n",
       "    <tr>\n",
       "      <th>13</th>\n",
       "      <td>30025425390000</td>\n",
       "      <td>2015-04-30</td>\n",
       "      <td>2015-06-17</td>\n",
       "      <td>2015-10-10</td>\n",
       "      <td>2015-08-01 00:00:00.000</td>\n",
       "      <td>EOG RESOURCES INCORPORATED</td>\n",
       "      <td>WOLFCAMP UPPER</td>\n",
       "      <td>PERMIAN BASIN</td>\n",
       "      <td>NEW MEXICO</td>\n",
       "      <td>LEA</td>\n",
       "      <td>32.080410</td>\n",
       "      <td>-103.530040</td>\n",
       "      <td>32.09347</td>\n",
       "      <td>-103.52959</td>\n",
       "      <td>4583.0</td>\n",
       "      <td>1657.9800</td>\n",
       "      <td>1625.025000</td>\n",
       "      <td>175992</td>\n",
       "      <td>281523</td>\n",
       "    </tr>\n",
       "    <tr>\n",
       "      <th>14</th>\n",
       "      <td>33023010960000</td>\n",
       "      <td>2013-08-22</td>\n",
       "      <td>2014-01-19</td>\n",
       "      <td>2014-04-07</td>\n",
       "      <td>2014-03-01 00:00:00.000</td>\n",
       "      <td>PETRO-HUNT LLC</td>\n",
       "      <td>THREE FORKS</td>\n",
       "      <td>WILLISTON BASIN</td>\n",
       "      <td>NORTH DAKOTA</td>\n",
       "      <td>DIVIDE</td>\n",
       "      <td>48.893759</td>\n",
       "      <td>-103.647074</td>\n",
       "      <td>48.86601</td>\n",
       "      <td>-103.64545</td>\n",
       "      <td>10055.0</td>\n",
       "      <td>247.5587</td>\n",
       "      <td>193.152500</td>\n",
       "      <td>66098</td>\n",
       "      <td>114677</td>\n",
       "    </tr>\n",
       "    <tr>\n",
       "      <th>15</th>\n",
       "      <td>33025026780000</td>\n",
       "      <td>2014-09-30</td>\n",
       "      <td>2015-05-04</td>\n",
       "      <td>2015-09-23</td>\n",
       "      <td>2015-08-01 00:00:00.000</td>\n",
       "      <td>CONTINENTAL RESOURCES INCORPORATED</td>\n",
       "      <td>BAKKEN</td>\n",
       "      <td>WILLISTON BASIN</td>\n",
       "      <td>NORTH DAKOTA</td>\n",
       "      <td>DUNN</td>\n",
       "      <td>47.457199</td>\n",
       "      <td>-102.876301</td>\n",
       "      <td>47.48709</td>\n",
       "      <td>-102.87709</td>\n",
       "      <td>10225.0</td>\n",
       "      <td>326.3353</td>\n",
       "      <td>763.942100</td>\n",
       "      <td>140340</td>\n",
       "      <td>246346</td>\n",
       "    </tr>\n",
       "    <tr>\n",
       "      <th>16</th>\n",
       "      <td>33053048870100</td>\n",
       "      <td>2013-03-21</td>\n",
       "      <td>2014-08-06</td>\n",
       "      <td>2014-11-05</td>\n",
       "      <td>2014-11-01 00:00:00.000</td>\n",
       "      <td>OASIS PETROLEUM NORTH AMERICA LLC</td>\n",
       "      <td>BAKKEN</td>\n",
       "      <td>WILLISTON BASIN</td>\n",
       "      <td>NORTH DAKOTA</td>\n",
       "      <td>MCKENZIE</td>\n",
       "      <td>47.995019</td>\n",
       "      <td>-103.561306</td>\n",
       "      <td>47.99470</td>\n",
       "      <td>-103.52035</td>\n",
       "      <td>9400.0</td>\n",
       "      <td>984.4741</td>\n",
       "      <td>559.110700</td>\n",
       "      <td>134023</td>\n",
       "      <td>192598</td>\n",
       "    </tr>\n",
       "    <tr>\n",
       "      <th>17</th>\n",
       "      <td>33053051530000</td>\n",
       "      <td>2013-07-29</td>\n",
       "      <td>2013-09-03</td>\n",
       "      <td>2014-04-27</td>\n",
       "      <td>2014-04-01 00:00:00.000</td>\n",
       "      <td>BURLINGTON RESOURCES O&amp;G CO LP</td>\n",
       "      <td>BAKKEN</td>\n",
       "      <td>WILLISTON BASIN</td>\n",
       "      <td>NORTH DAKOTA</td>\n",
       "      <td>MCKENZIE</td>\n",
       "      <td>47.992928</td>\n",
       "      <td>-103.020490</td>\n",
       "      <td>48.02321</td>\n",
       "      <td>-103.01697</td>\n",
       "      <td>10415.0</td>\n",
       "      <td>341.2530</td>\n",
       "      <td>233.851900</td>\n",
       "      <td>125944</td>\n",
       "      <td>209884</td>\n",
       "    </tr>\n",
       "    <tr>\n",
       "      <th>18</th>\n",
       "      <td>33053056390200</td>\n",
       "      <td>2014-01-23</td>\n",
       "      <td>2014-12-18</td>\n",
       "      <td>2015-01-17</td>\n",
       "      <td>2015-01-01 00:00:00.000</td>\n",
       "      <td>NEWFIELD PRODUCTION COMPANY</td>\n",
       "      <td>THREE FORKS / BAKKEN</td>\n",
       "      <td>WILLISTON BASIN</td>\n",
       "      <td>NORTH DAKOTA</td>\n",
       "      <td>MCKENZIE</td>\n",
       "      <td>48.067984</td>\n",
       "      <td>-103.032125</td>\n",
       "      <td>48.08104</td>\n",
       "      <td>-103.03132</td>\n",
       "      <td>1513.0</td>\n",
       "      <td>455.8970</td>\n",
       "      <td>367.239100</td>\n",
       "      <td>67417</td>\n",
       "      <td>96426</td>\n",
       "    </tr>\n",
       "    <tr>\n",
       "      <th>19</th>\n",
       "      <td>33053056550000</td>\n",
       "      <td>2014-01-28</td>\n",
       "      <td>2014-03-14</td>\n",
       "      <td>2014-06-25</td>\n",
       "      <td>2014-06-01 00:00:00.000</td>\n",
       "      <td>NINE POINT ENERGY LLC</td>\n",
       "      <td>BAKKEN</td>\n",
       "      <td>WILLISTON BASIN</td>\n",
       "      <td>NORTH DAKOTA</td>\n",
       "      <td>MCKENZIE</td>\n",
       "      <td>47.791114</td>\n",
       "      <td>-103.545864</td>\n",
       "      <td>47.81872</td>\n",
       "      <td>-103.54224</td>\n",
       "      <td>9613.0</td>\n",
       "      <td>392.4996</td>\n",
       "      <td>400.888700</td>\n",
       "      <td>84151</td>\n",
       "      <td>131333</td>\n",
       "    </tr>\n",
       "    <tr>\n",
       "      <th>20</th>\n",
       "      <td>33053059400000</td>\n",
       "      <td>2014-05-15</td>\n",
       "      <td>2014-11-13</td>\n",
       "      <td>2015-04-03</td>\n",
       "      <td>2015-03-01 00:00:00.000</td>\n",
       "      <td>XTO ENERGY INCORPORATED</td>\n",
       "      <td>THREE FORKS</td>\n",
       "      <td>WILLISTON BASIN</td>\n",
       "      <td>NORTH DAKOTA</td>\n",
       "      <td>MCKENZIE</td>\n",
       "      <td>47.746094</td>\n",
       "      <td>-103.098475</td>\n",
       "      <td>47.71838</td>\n",
       "      <td>-103.09252</td>\n",
       "      <td>10021.0</td>\n",
       "      <td>375.7643</td>\n",
       "      <td>361.355000</td>\n",
       "      <td>68327</td>\n",
       "      <td>118509</td>\n",
       "    </tr>\n",
       "    <tr>\n",
       "      <th>21</th>\n",
       "      <td>33053061530000</td>\n",
       "      <td>2014-08-05</td>\n",
       "      <td>2015-01-27</td>\n",
       "      <td>2015-06-28</td>\n",
       "      <td>2015-06-01 00:00:00.000</td>\n",
       "      <td>BURLINGTON RESOURCES O&amp;G CO LP</td>\n",
       "      <td>THREE FORKS</td>\n",
       "      <td>WILLISTON BASIN</td>\n",
       "      <td>NORTH DAKOTA</td>\n",
       "      <td>MCKENZIE</td>\n",
       "      <td>47.846022</td>\n",
       "      <td>-102.967045</td>\n",
       "      <td>47.81920</td>\n",
       "      <td>-102.96232</td>\n",
       "      <td>9291.0</td>\n",
       "      <td>440.1811</td>\n",
       "      <td>279.032700</td>\n",
       "      <td>96230</td>\n",
       "      <td>177349</td>\n",
       "    </tr>\n",
       "    <tr>\n",
       "      <th>22</th>\n",
       "      <td>33053061600000</td>\n",
       "      <td>2014-08-05</td>\n",
       "      <td>2014-09-25</td>\n",
       "      <td>2015-01-13</td>\n",
       "      <td>2014-12-01 00:00:00.000</td>\n",
       "      <td>HESS BAKKEN INVESTMENTS II LLC</td>\n",
       "      <td>BAKKEN</td>\n",
       "      <td>WILLISTON BASIN</td>\n",
       "      <td>NORTH DAKOTA</td>\n",
       "      <td>MCKENZIE</td>\n",
       "      <td>47.675447</td>\n",
       "      <td>-103.316278</td>\n",
       "      <td>47.70267</td>\n",
       "      <td>-103.31067</td>\n",
       "      <td>10052.0</td>\n",
       "      <td>148.4382</td>\n",
       "      <td>119.386300</td>\n",
       "      <td>42082</td>\n",
       "      <td>67576</td>\n",
       "    </tr>\n",
       "    <tr>\n",
       "      <th>23</th>\n",
       "      <td>33053061970000</td>\n",
       "      <td>2014-08-15</td>\n",
       "      <td>2015-02-25</td>\n",
       "      <td>2015-08-10</td>\n",
       "      <td>2015-08-01 00:00:00.000</td>\n",
       "      <td>HESS BAKKEN INVESTMENTS II LLC</td>\n",
       "      <td>THREE FORKS</td>\n",
       "      <td>WILLISTON BASIN</td>\n",
       "      <td>NORTH DAKOTA</td>\n",
       "      <td>MCKENZIE</td>\n",
       "      <td>47.920949</td>\n",
       "      <td>-102.856899</td>\n",
       "      <td>47.92118</td>\n",
       "      <td>-102.81310</td>\n",
       "      <td>9841.0</td>\n",
       "      <td>354.8798</td>\n",
       "      <td>240.360000</td>\n",
       "      <td>103174</td>\n",
       "      <td>143473</td>\n",
       "    </tr>\n",
       "    <tr>\n",
       "      <th>24</th>\n",
       "      <td>33053062710000</td>\n",
       "      <td>2014-09-15</td>\n",
       "      <td>2014-11-02</td>\n",
       "      <td>2015-04-05</td>\n",
       "      <td>2015-03-01 00:00:00.000</td>\n",
       "      <td>WHITING OIL &amp; GAS CORPORATION</td>\n",
       "      <td>BAKKEN</td>\n",
       "      <td>WILLISTON BASIN</td>\n",
       "      <td>NORTH DAKOTA</td>\n",
       "      <td>MCKENZIE</td>\n",
       "      <td>47.847589</td>\n",
       "      <td>-103.975208</td>\n",
       "      <td>47.82010</td>\n",
       "      <td>-103.98625</td>\n",
       "      <td>10951.0</td>\n",
       "      <td>286.4915</td>\n",
       "      <td>236.736400</td>\n",
       "      <td>50088</td>\n",
       "      <td>76054</td>\n",
       "    </tr>\n",
       "    <tr>\n",
       "      <th>25</th>\n",
       "      <td>33053067490000</td>\n",
       "      <td>2015-02-23</td>\n",
       "      <td>2015-07-09</td>\n",
       "      <td>2015-10-10</td>\n",
       "      <td>2015-10-01 00:00:00.000</td>\n",
       "      <td>WHITING OIL &amp; GAS CORPORATION</td>\n",
       "      <td>THREE FORKS</td>\n",
       "      <td>WILLISTON BASIN</td>\n",
       "      <td>NORTH DAKOTA</td>\n",
       "      <td>MCKENZIE</td>\n",
       "      <td>48.022461</td>\n",
       "      <td>-103.109486</td>\n",
       "      <td>47.99290</td>\n",
       "      <td>-103.10193</td>\n",
       "      <td>11238.0</td>\n",
       "      <td>401.0879</td>\n",
       "      <td>174.951200</td>\n",
       "      <td>206081</td>\n",
       "      <td>305750</td>\n",
       "    </tr>\n",
       "    <tr>\n",
       "      <th>26</th>\n",
       "      <td>33061032390000</td>\n",
       "      <td>2014-08-05</td>\n",
       "      <td>2014-10-14</td>\n",
       "      <td>2015-02-16</td>\n",
       "      <td>2015-02-01 00:00:00.000</td>\n",
       "      <td>WHITING OIL &amp; GAS CORPORATION</td>\n",
       "      <td>THREE FORKS</td>\n",
       "      <td>WILLISTON BASIN</td>\n",
       "      <td>NORTH DAKOTA</td>\n",
       "      <td>MOUNTRAIL</td>\n",
       "      <td>48.109905</td>\n",
       "      <td>-102.565508</td>\n",
       "      <td>48.09766</td>\n",
       "      <td>-102.54984</td>\n",
       "      <td>5102.0</td>\n",
       "      <td>307.2087</td>\n",
       "      <td>474.892600</td>\n",
       "      <td>44737</td>\n",
       "      <td>69553</td>\n",
       "    </tr>\n",
       "    <tr>\n",
       "      <th>27</th>\n",
       "      <td>33061033560000</td>\n",
       "      <td>2014-10-16</td>\n",
       "      <td>2015-02-06</td>\n",
       "      <td>2015-07-24</td>\n",
       "      <td>2015-07-01 00:00:00.000</td>\n",
       "      <td>HESS BAKKEN INVESTMENTS II LLC</td>\n",
       "      <td>THREE FORKS</td>\n",
       "      <td>WILLISTON BASIN</td>\n",
       "      <td>NORTH DAKOTA</td>\n",
       "      <td>MOUNTRAIL</td>\n",
       "      <td>48.140773</td>\n",
       "      <td>-102.694397</td>\n",
       "      <td>48.11112</td>\n",
       "      <td>-102.69618</td>\n",
       "      <td>9872.0</td>\n",
       "      <td>206.0430</td>\n",
       "      <td>161.287500</td>\n",
       "      <td>98590</td>\n",
       "      <td>150776</td>\n",
       "    </tr>\n",
       "    <tr>\n",
       "      <th>28</th>\n",
       "      <td>33105031270000</td>\n",
       "      <td>2013-07-16</td>\n",
       "      <td>2013-09-19</td>\n",
       "      <td>2014-02-10</td>\n",
       "      <td>2014-02-01 00:00:00.000</td>\n",
       "      <td>WHITING OIL &amp; GAS CORPORATION</td>\n",
       "      <td>THREE FORKS</td>\n",
       "      <td>WILLISTON BASIN</td>\n",
       "      <td>NORTH DAKOTA</td>\n",
       "      <td>WILLIAMS</td>\n",
       "      <td>48.167886</td>\n",
       "      <td>-103.193273</td>\n",
       "      <td>48.14049</td>\n",
       "      <td>-103.18976</td>\n",
       "      <td>9211.0</td>\n",
       "      <td>366.1146</td>\n",
       "      <td>3.051352</td>\n",
       "      <td>42065</td>\n",
       "      <td>63100</td>\n",
       "    </tr>\n",
       "    <tr>\n",
       "      <th>29</th>\n",
       "      <td>33105032030000</td>\n",
       "      <td>2013-09-09</td>\n",
       "      <td>2013-10-24</td>\n",
       "      <td>2014-04-26</td>\n",
       "      <td>2014-04-01 00:00:00.000</td>\n",
       "      <td>CONTINENTAL RESOURCES INCORPORATED</td>\n",
       "      <td>THREE FORKS</td>\n",
       "      <td>WILLISTON BASIN</td>\n",
       "      <td>NORTH DAKOTA</td>\n",
       "      <td>WILLIAMS</td>\n",
       "      <td>48.230954</td>\n",
       "      <td>-103.189569</td>\n",
       "      <td>48.19827</td>\n",
       "      <td>-103.19005</td>\n",
       "      <td>11492.0</td>\n",
       "      <td>359.6471</td>\n",
       "      <td>301.821500</td>\n",
       "      <td>64300</td>\n",
       "      <td>114125</td>\n",
       "    </tr>\n",
       "    <tr>\n",
       "      <th>30</th>\n",
       "      <td>33105034810000</td>\n",
       "      <td>2014-03-24</td>\n",
       "      <td>2014-06-06</td>\n",
       "      <td>2015-01-15</td>\n",
       "      <td>2014-12-01 00:00:00.000</td>\n",
       "      <td>XTO ENERGY INCORPORATED</td>\n",
       "      <td>BAKKEN</td>\n",
       "      <td>WILLISTON BASIN</td>\n",
       "      <td>NORTH DAKOTA</td>\n",
       "      <td>WILLIAMS</td>\n",
       "      <td>48.516578</td>\n",
       "      <td>-102.938572</td>\n",
       "      <td>48.49633</td>\n",
       "      <td>-102.93151</td>\n",
       "      <td>7143.0</td>\n",
       "      <td>346.7994</td>\n",
       "      <td>394.368900</td>\n",
       "      <td>24543</td>\n",
       "      <td>65310</td>\n",
       "    </tr>\n",
       "    <tr>\n",
       "      <th>31</th>\n",
       "      <td>33105035380000</td>\n",
       "      <td>2014-05-23</td>\n",
       "      <td>2014-06-11</td>\n",
       "      <td>2014-12-29</td>\n",
       "      <td>2014-12-01 00:00:00.000</td>\n",
       "      <td>LIBERTY RESOURCES MANAGEMENT COMPANY LLC</td>\n",
       "      <td>BAKKEN</td>\n",
       "      <td>WILLISTON BASIN</td>\n",
       "      <td>NORTH DAKOTA</td>\n",
       "      <td>WILLIAMS</td>\n",
       "      <td>48.503628</td>\n",
       "      <td>-102.977092</td>\n",
       "      <td>48.53119</td>\n",
       "      <td>-102.97815</td>\n",
       "      <td>9947.0</td>\n",
       "      <td>422.7651</td>\n",
       "      <td>815.382500</td>\n",
       "      <td>128838</td>\n",
       "      <td>200140</td>\n",
       "    </tr>\n",
       "    <tr>\n",
       "      <th>32</th>\n",
       "      <td>33105035810000</td>\n",
       "      <td>2014-06-19</td>\n",
       "      <td>2014-09-01</td>\n",
       "      <td>2015-05-13</td>\n",
       "      <td>2015-03-01 00:00:00.000</td>\n",
       "      <td>CONTINENTAL RESOURCES INCORPORATED</td>\n",
       "      <td>THREE FORKS</td>\n",
       "      <td>WILLISTON BASIN</td>\n",
       "      <td>NORTH DAKOTA</td>\n",
       "      <td>WILLIAMS</td>\n",
       "      <td>48.603374</td>\n",
       "      <td>-103.032381</td>\n",
       "      <td>48.57598</td>\n",
       "      <td>-103.03142</td>\n",
       "      <td>9521.0</td>\n",
       "      <td>333.2274</td>\n",
       "      <td>256.376800</td>\n",
       "      <td>55485</td>\n",
       "      <td>80612</td>\n",
       "    </tr>\n",
       "    <tr>\n",
       "      <th>33</th>\n",
       "      <td>33105036550100</td>\n",
       "      <td>2014-08-04</td>\n",
       "      <td>2014-10-27</td>\n",
       "      <td>2015-02-26</td>\n",
       "      <td>2015-02-01 00:00:00.000</td>\n",
       "      <td>WHITING OIL &amp; GAS CORPORATION</td>\n",
       "      <td>THREE FORKS</td>\n",
       "      <td>WILLISTON BASIN</td>\n",
       "      <td>NORTH DAKOTA</td>\n",
       "      <td>WILLIAMS</td>\n",
       "      <td>48.112097</td>\n",
       "      <td>-103.294476</td>\n",
       "      <td>48.13924</td>\n",
       "      <td>-103.29261</td>\n",
       "      <td>4542.0</td>\n",
       "      <td>330.9360</td>\n",
       "      <td>231.485800</td>\n",
       "      <td>73508</td>\n",
       "      <td>107681</td>\n",
       "    </tr>\n",
       "    <tr>\n",
       "      <th>34</th>\n",
       "      <td>33105037690100</td>\n",
       "      <td>2014-09-22</td>\n",
       "      <td>2014-12-23</td>\n",
       "      <td>2015-05-08</td>\n",
       "      <td>2015-03-01 00:00:00.000</td>\n",
       "      <td>CONTINENTAL RESOURCES INCORPORATED</td>\n",
       "      <td>THREE FORKS</td>\n",
       "      <td>WILLISTON BASIN</td>\n",
       "      <td>NORTH DAKOTA</td>\n",
       "      <td>WILLIAMS</td>\n",
       "      <td>48.225953</td>\n",
       "      <td>-103.318167</td>\n",
       "      <td>48.19845</td>\n",
       "      <td>-103.31350</td>\n",
       "      <td>9477.0</td>\n",
       "      <td>610.1913</td>\n",
       "      <td>517.700600</td>\n",
       "      <td>107856</td>\n",
       "      <td>179799</td>\n",
       "    </tr>\n",
       "    <tr>\n",
       "      <th>35</th>\n",
       "      <td>35017246780000</td>\n",
       "      <td>2014-03-19</td>\n",
       "      <td>2014-03-21</td>\n",
       "      <td>2014-05-19</td>\n",
       "      <td>2014-06-01 00:00:00.000</td>\n",
       "      <td>MARATHON OIL COMPANY</td>\n",
       "      <td>WOODFORD</td>\n",
       "      <td>ANADARKO BASIN</td>\n",
       "      <td>OKLAHOMA</td>\n",
       "      <td>CANADIAN</td>\n",
       "      <td>35.550467</td>\n",
       "      <td>-97.837858</td>\n",
       "      <td>35.53706</td>\n",
       "      <td>-97.83706</td>\n",
       "      <td>4596.0</td>\n",
       "      <td>1294.5750</td>\n",
       "      <td>1924.085000</td>\n",
       "      <td>19631</td>\n",
       "      <td>32732</td>\n",
       "    </tr>\n",
       "    <tr>\n",
       "      <th>36</th>\n",
       "      <td>35017246960000</td>\n",
       "      <td>2014-09-03</td>\n",
       "      <td>2014-09-28</td>\n",
       "      <td>2014-12-10</td>\n",
       "      <td>2014-12-01 00:00:00.000</td>\n",
       "      <td>CIMAREX ENERGY COMPANY</td>\n",
       "      <td>WOODFORD</td>\n",
       "      <td>ANADARKO BASIN</td>\n",
       "      <td>OKLAHOMA</td>\n",
       "      <td>CANADIAN</td>\n",
       "      <td>35.383976</td>\n",
       "      <td>-97.991358</td>\n",
       "      <td>35.40532</td>\n",
       "      <td>-97.99148</td>\n",
       "      <td>7440.0</td>\n",
       "      <td>2053.6050</td>\n",
       "      <td>1768.781000</td>\n",
       "      <td>81780</td>\n",
       "      <td>159987</td>\n",
       "    </tr>\n",
       "    <tr>\n",
       "      <th>37</th>\n",
       "      <td>35073250300000</td>\n",
       "      <td>2014-11-26</td>\n",
       "      <td>2015-02-14</td>\n",
       "      <td>2015-08-25</td>\n",
       "      <td>2015-08-01 00:00:00.000</td>\n",
       "      <td>CHAPARRAL ENERGY LIMITED LIABILITY CORP</td>\n",
       "      <td>OSWEGO</td>\n",
       "      <td>ANADARKO BASIN</td>\n",
       "      <td>OKLAHOMA</td>\n",
       "      <td>KINGFISHER</td>\n",
       "      <td>36.044720</td>\n",
       "      <td>-97.893227</td>\n",
       "      <td>36.03002</td>\n",
       "      <td>-97.89306</td>\n",
       "      <td>4530.0</td>\n",
       "      <td>108.3326</td>\n",
       "      <td>382.215800</td>\n",
       "      <td>51670</td>\n",
       "      <td>91761</td>\n",
       "    </tr>\n",
       "    <tr>\n",
       "      <th>38</th>\n",
       "      <td>42105419830000</td>\n",
       "      <td>2014-02-27</td>\n",
       "      <td>2014-03-03</td>\n",
       "      <td>2014-06-04</td>\n",
       "      <td>2014-06-01 00:00:00.000</td>\n",
       "      <td>APPROACH OPERATING LIMITED LIABILITY CORP</td>\n",
       "      <td>WOLFCAMP</td>\n",
       "      <td>PERMIAN BASIN</td>\n",
       "      <td>TEXAS</td>\n",
       "      <td>CROCKETT</td>\n",
       "      <td>30.932566</td>\n",
       "      <td>-101.224790</td>\n",
       "      <td>30.91022</td>\n",
       "      <td>-101.22338</td>\n",
       "      <td>7330.0</td>\n",
       "      <td>1201.4860</td>\n",
       "      <td>1170.349000</td>\n",
       "      <td>21372</td>\n",
       "      <td>30474</td>\n",
       "    </tr>\n",
       "    <tr>\n",
       "      <th>39</th>\n",
       "      <td>42105420060100</td>\n",
       "      <td>2014-04-10</td>\n",
       "      <td>2014-06-07</td>\n",
       "      <td>2014-08-04</td>\n",
       "      <td>2014-08-01 00:00:00.000</td>\n",
       "      <td>EP ENERGY E&amp;P COMPANY LP</td>\n",
       "      <td>WOLFCAMP</td>\n",
       "      <td>PERMIAN BASIN</td>\n",
       "      <td>TEXAS</td>\n",
       "      <td>CROCKETT</td>\n",
       "      <td>31.036220</td>\n",
       "      <td>-101.298203</td>\n",
       "      <td>31.05840</td>\n",
       "      <td>-101.29816</td>\n",
       "      <td>7727.0</td>\n",
       "      <td>1322.0210</td>\n",
       "      <td>928.173800</td>\n",
       "      <td>56150</td>\n",
       "      <td>68082</td>\n",
       "    </tr>\n",
       "    <tr>\n",
       "      <th>40</th>\n",
       "      <td>42105421020000</td>\n",
       "      <td>2014-08-16</td>\n",
       "      <td>2014-08-23</td>\n",
       "      <td>2014-12-22</td>\n",
       "      <td>2014-12-01 00:00:00.000</td>\n",
       "      <td>APPROACH OPERATING LIMITED LIABILITY CORP</td>\n",
       "      <td>WOLFCAMP</td>\n",
       "      <td>PERMIAN BASIN</td>\n",
       "      <td>TEXAS</td>\n",
       "      <td>CROCKETT</td>\n",
       "      <td>30.931085</td>\n",
       "      <td>-101.275646</td>\n",
       "      <td>30.91015</td>\n",
       "      <td>-101.27472</td>\n",
       "      <td>6853.0</td>\n",
       "      <td>1247.4980</td>\n",
       "      <td>1382.348000</td>\n",
       "      <td>31318</td>\n",
       "      <td>46242</td>\n",
       "    </tr>\n",
       "    <tr>\n",
       "      <th>41</th>\n",
       "      <td>42105421500000</td>\n",
       "      <td>2014-10-07</td>\n",
       "      <td>2014-11-23</td>\n",
       "      <td>2015-03-29</td>\n",
       "      <td>2015-03-01 00:00:00.000</td>\n",
       "      <td>APPROACH OPERATING LIMITED LIABILITY CORP</td>\n",
       "      <td>WOLFCAMP</td>\n",
       "      <td>PERMIAN BASIN</td>\n",
       "      <td>TEXAS</td>\n",
       "      <td>CROCKETT</td>\n",
       "      <td>30.891880</td>\n",
       "      <td>-101.239248</td>\n",
       "      <td>30.91010</td>\n",
       "      <td>-101.23926</td>\n",
       "      <td>5946.0</td>\n",
       "      <td>1182.1640</td>\n",
       "      <td>1441.936000</td>\n",
       "      <td>35829</td>\n",
       "      <td>47727</td>\n",
       "    </tr>\n",
       "    <tr>\n",
       "      <th>42</th>\n",
       "      <td>42301318440000</td>\n",
       "      <td>2012-09-13</td>\n",
       "      <td>2012-11-15</td>\n",
       "      <td>2014-01-27</td>\n",
       "      <td>2013-04-01 00:00:00.000</td>\n",
       "      <td>SHELL WESTERN E &amp; P INCORPORATED LP</td>\n",
       "      <td>BONE SPRING</td>\n",
       "      <td>PERMIAN BASIN</td>\n",
       "      <td>TEXAS</td>\n",
       "      <td>LOVING</td>\n",
       "      <td>31.955840</td>\n",
       "      <td>-103.740776</td>\n",
       "      <td>31.94281</td>\n",
       "      <td>-103.74097</td>\n",
       "      <td>3656.0</td>\n",
       "      <td>488.5271</td>\n",
       "      <td>354.653600</td>\n",
       "      <td>28951</td>\n",
       "      <td>37897</td>\n",
       "    </tr>\n",
       "    <tr>\n",
       "      <th>43</th>\n",
       "      <td>42317401950000</td>\n",
       "      <td>2015-05-18</td>\n",
       "      <td>2015-06-23</td>\n",
       "      <td>2015-10-06</td>\n",
       "      <td>2015-10-01 00:00:00.000</td>\n",
       "      <td>PIONEER NATURAL RESOURCES USA INC</td>\n",
       "      <td>SPRABERRY</td>\n",
       "      <td>PERMIAN BASIN</td>\n",
       "      <td>TEXAS</td>\n",
       "      <td>MARTIN</td>\n",
       "      <td>32.175802</td>\n",
       "      <td>-102.062501</td>\n",
       "      <td>32.19690</td>\n",
       "      <td>-102.06904</td>\n",
       "      <td>7290.0</td>\n",
       "      <td>1157.6290</td>\n",
       "      <td>1560.677000</td>\n",
       "      <td>61365</td>\n",
       "      <td>87498</td>\n",
       "    </tr>\n",
       "    <tr>\n",
       "      <th>44</th>\n",
       "      <td>42371392130100</td>\n",
       "      <td>2014-06-27</td>\n",
       "      <td>2014-08-13</td>\n",
       "      <td>2014-12-01</td>\n",
       "      <td>2014-11-01 00:00:00.000</td>\n",
       "      <td>DIAMONDBACK EXPLORATION &amp; PROD LLC</td>\n",
       "      <td>WOLFCAMP</td>\n",
       "      <td>PERMIAN BASIN</td>\n",
       "      <td>TEXAS</td>\n",
       "      <td>PECOS</td>\n",
       "      <td>31.103318</td>\n",
       "      <td>-103.107997</td>\n",
       "      <td>31.10177</td>\n",
       "      <td>-103.13352</td>\n",
       "      <td>7664.0</td>\n",
       "      <td>1785.7310</td>\n",
       "      <td>3272.875000</td>\n",
       "      <td>84683</td>\n",
       "      <td>159724</td>\n",
       "    </tr>\n",
       "    <tr>\n",
       "      <th>45</th>\n",
       "      <td>42383381710000</td>\n",
       "      <td>2013-01-09</td>\n",
       "      <td>2013-10-23</td>\n",
       "      <td>2014-03-07</td>\n",
       "      <td>2014-02-01 00:00:00.000</td>\n",
       "      <td>SABLE PERMIAN RESOURCES LAND LLC</td>\n",
       "      <td>WOLFCAMP</td>\n",
       "      <td>PERMIAN BASIN</td>\n",
       "      <td>TEXAS</td>\n",
       "      <td>REAGAN</td>\n",
       "      <td>31.287603</td>\n",
       "      <td>-101.589564</td>\n",
       "      <td>31.25907</td>\n",
       "      <td>-101.58952</td>\n",
       "      <td>9619.0</td>\n",
       "      <td>1659.3060</td>\n",
       "      <td>1489.541000</td>\n",
       "      <td>60140</td>\n",
       "      <td>102284</td>\n",
       "    </tr>\n",
       "    <tr>\n",
       "      <th>46</th>\n",
       "      <td>42389339940000</td>\n",
       "      <td>2013-11-04</td>\n",
       "      <td>2014-02-03</td>\n",
       "      <td>2014-07-16</td>\n",
       "      <td>2014-06-01 00:00:00.000</td>\n",
       "      <td>EOG RESOURCES INCORPORATED</td>\n",
       "      <td>WOLFCAMP</td>\n",
       "      <td>PERMIAN BASIN</td>\n",
       "      <td>TEXAS</td>\n",
       "      <td>REEVES</td>\n",
       "      <td>31.613055</td>\n",
       "      <td>-103.943273</td>\n",
       "      <td>31.59780</td>\n",
       "      <td>-103.94402</td>\n",
       "      <td>4808.0</td>\n",
       "      <td>1535.0170</td>\n",
       "      <td>1263.295000</td>\n",
       "      <td>91799</td>\n",
       "      <td>155902</td>\n",
       "    </tr>\n",
       "    <tr>\n",
       "      <th>47</th>\n",
       "      <td>42389345710000</td>\n",
       "      <td>2014-10-06</td>\n",
       "      <td>2014-11-30</td>\n",
       "      <td>2015-03-31</td>\n",
       "      <td>2015-03-01 00:00:00.000</td>\n",
       "      <td>BHP BILLITON PETROLEUM(TXLA OP) COMPANY</td>\n",
       "      <td>WOLFCAMP</td>\n",
       "      <td>PERMIAN BASIN</td>\n",
       "      <td>TEXAS</td>\n",
       "      <td>REEVES</td>\n",
       "      <td>31.767678</td>\n",
       "      <td>-103.855621</td>\n",
       "      <td>31.78125</td>\n",
       "      <td>-103.85369</td>\n",
       "      <td>4738.0</td>\n",
       "      <td>1319.8350</td>\n",
       "      <td>1201.862000</td>\n",
       "      <td>104584</td>\n",
       "      <td>165113</td>\n",
       "    </tr>\n",
       "    <tr>\n",
       "      <th>48</th>\n",
       "      <td>42461395750000</td>\n",
       "      <td>2014-09-17</td>\n",
       "      <td>2014-11-07</td>\n",
       "      <td>2015-06-07</td>\n",
       "      <td>2015-06-01 00:00:00.000</td>\n",
       "      <td>PIONEER NATURAL RESOURCES USA INC</td>\n",
       "      <td>SPRABERRY</td>\n",
       "      <td>PERMIAN BASIN</td>\n",
       "      <td>TEXAS</td>\n",
       "      <td>UPTON</td>\n",
       "      <td>31.268789</td>\n",
       "      <td>-101.789362</td>\n",
       "      <td>31.24249</td>\n",
       "      <td>-101.78967</td>\n",
       "      <td>9091.0</td>\n",
       "      <td>983.5690</td>\n",
       "      <td>1691.322000</td>\n",
       "      <td>65953</td>\n",
       "      <td>95097</td>\n",
       "    </tr>\n",
       "    <tr>\n",
       "      <th>49</th>\n",
       "      <td>49021210550000</td>\n",
       "      <td>2013-11-13</td>\n",
       "      <td>2014-01-10</td>\n",
       "      <td>2014-05-19</td>\n",
       "      <td>2014-03-01 00:00:00.000</td>\n",
       "      <td>SAMSON EXPLORATION LLC</td>\n",
       "      <td>CODELL</td>\n",
       "      <td>DENVER BASIN</td>\n",
       "      <td>WYOMING</td>\n",
       "      <td>LARAMIE</td>\n",
       "      <td>41.289530</td>\n",
       "      <td>-104.662340</td>\n",
       "      <td>41.27109</td>\n",
       "      <td>-104.66166</td>\n",
       "      <td>6030.0</td>\n",
       "      <td>1106.8640</td>\n",
       "      <td>652.499000</td>\n",
       "      <td>51621</td>\n",
       "      <td>72608</td>\n",
       "    </tr>\n",
       "  </tbody>\n",
       "</table>\n",
       "</div>"
      ],
      "text/plain": [
       "               API  PermitDate    SpudDate CompletionDate  \\\n",
       "0    5005072170100  2014-05-06  2014-05-06     2014-12-02   \n",
       "1    5123377130000  2013-07-21  2013-10-06     2014-02-26   \n",
       "2    5123379280000  2013-09-08  2013-09-25     2014-09-07   \n",
       "3    5123379400000  2013-09-11  2014-12-05     2015-03-31   \n",
       "4    5123385820100  2014-01-07  2014-01-13     2014-04-23   \n",
       "5    5123390320000  2014-02-27  2014-06-20     2014-10-30   \n",
       "6    5123390440000  2014-02-28  2014-04-26     2014-08-16   \n",
       "7    5123392690000  2014-04-14  2015-03-20     2015-08-03   \n",
       "8    5123399750000  2014-08-09  2014-11-14     2015-04-16   \n",
       "9    5123402600000  2014-09-22  2015-06-16     2015-09-13   \n",
       "10   5123409020000  2014-12-23  2015-02-07     2015-09-07   \n",
       "11   5123410480000  2015-01-21  2015-03-16     2015-04-23   \n",
       "12  30015414470000  2013-06-07  2013-10-06     2014-01-07   \n",
       "13  30025425390000  2015-04-30  2015-06-17     2015-10-10   \n",
       "14  33023010960000  2013-08-22  2014-01-19     2014-04-07   \n",
       "15  33025026780000  2014-09-30  2015-05-04     2015-09-23   \n",
       "16  33053048870100  2013-03-21  2014-08-06     2014-11-05   \n",
       "17  33053051530000  2013-07-29  2013-09-03     2014-04-27   \n",
       "18  33053056390200  2014-01-23  2014-12-18     2015-01-17   \n",
       "19  33053056550000  2014-01-28  2014-03-14     2014-06-25   \n",
       "20  33053059400000  2014-05-15  2014-11-13     2015-04-03   \n",
       "21  33053061530000  2014-08-05  2015-01-27     2015-06-28   \n",
       "22  33053061600000  2014-08-05  2014-09-25     2015-01-13   \n",
       "23  33053061970000  2014-08-15  2015-02-25     2015-08-10   \n",
       "24  33053062710000  2014-09-15  2014-11-02     2015-04-05   \n",
       "25  33053067490000  2015-02-23  2015-07-09     2015-10-10   \n",
       "26  33061032390000  2014-08-05  2014-10-14     2015-02-16   \n",
       "27  33061033560000  2014-10-16  2015-02-06     2015-07-24   \n",
       "28  33105031270000  2013-07-16  2013-09-19     2014-02-10   \n",
       "29  33105032030000  2013-09-09  2013-10-24     2014-04-26   \n",
       "30  33105034810000  2014-03-24  2014-06-06     2015-01-15   \n",
       "31  33105035380000  2014-05-23  2014-06-11     2014-12-29   \n",
       "32  33105035810000  2014-06-19  2014-09-01     2015-05-13   \n",
       "33  33105036550100  2014-08-04  2014-10-27     2015-02-26   \n",
       "34  33105037690100  2014-09-22  2014-12-23     2015-05-08   \n",
       "35  35017246780000  2014-03-19  2014-03-21     2014-05-19   \n",
       "36  35017246960000  2014-09-03  2014-09-28     2014-12-10   \n",
       "37  35073250300000  2014-11-26  2015-02-14     2015-08-25   \n",
       "38  42105419830000  2014-02-27  2014-03-03     2014-06-04   \n",
       "39  42105420060100  2014-04-10  2014-06-07     2014-08-04   \n",
       "40  42105421020000  2014-08-16  2014-08-23     2014-12-22   \n",
       "41  42105421500000  2014-10-07  2014-11-23     2015-03-29   \n",
       "42  42301318440000  2012-09-13  2012-11-15     2014-01-27   \n",
       "43  42317401950000  2015-05-18  2015-06-23     2015-10-06   \n",
       "44  42371392130100  2014-06-27  2014-08-13     2014-12-01   \n",
       "45  42383381710000  2013-01-09  2013-10-23     2014-03-07   \n",
       "46  42389339940000  2013-11-04  2014-02-03     2014-07-16   \n",
       "47  42389345710000  2014-10-06  2014-11-30     2015-03-31   \n",
       "48  42461395750000  2014-09-17  2014-11-07     2015-06-07   \n",
       "49  49021210550000  2013-11-13  2014-01-10     2014-05-19   \n",
       "\n",
       "        FirstProductionDate                            operatorNameIHS  \\\n",
       "0   2014-11-01 00:00:00.000             BURLINGTON RESOURCES O&G CO LP   \n",
       "1   2014-02-01 00:00:00.000                    SRC ENERGY INCORPORATED   \n",
       "2   2013-11-01 00:00:00.000      BONANZA CREEK ENERGY OPERATING CO LLC   \n",
       "3   2015-03-01 00:00:00.000                  NOBLE ENERGY INCORPORATED   \n",
       "4   2014-04-01 00:00:00.000        GREAT WESTERN OPERATING COMPANY LLC   \n",
       "5   2014-10-01 00:00:00.000                  NOBLE ENERGY INCORPORATED   \n",
       "6   2014-08-01 00:00:00.000            KERR-MCGEE OIL & GAS ONSHORE LP   \n",
       "7   2015-07-01 00:00:00.000      CRESTONE PEAK RESOURCES OPERATING LLC   \n",
       "8   2015-04-01 00:00:00.000            KERR-MCGEE OIL & GAS ONSHORE LP   \n",
       "9   2015-09-01 00:00:00.000                   EXTRACTION OIL & GAS LLC   \n",
       "10  2015-09-01 00:00:00.000                  NOBLE ENERGY INCORPORATED   \n",
       "11  2015-04-01 00:00:00.000      BONANZA CREEK ENERGY OPERATING CO LLC   \n",
       "12  2013-12-01 00:00:00.000                                OXY USA INC   \n",
       "13  2015-08-01 00:00:00.000                 EOG RESOURCES INCORPORATED   \n",
       "14  2014-03-01 00:00:00.000                             PETRO-HUNT LLC   \n",
       "15  2015-08-01 00:00:00.000         CONTINENTAL RESOURCES INCORPORATED   \n",
       "16  2014-11-01 00:00:00.000          OASIS PETROLEUM NORTH AMERICA LLC   \n",
       "17  2014-04-01 00:00:00.000             BURLINGTON RESOURCES O&G CO LP   \n",
       "18  2015-01-01 00:00:00.000                NEWFIELD PRODUCTION COMPANY   \n",
       "19  2014-06-01 00:00:00.000                      NINE POINT ENERGY LLC   \n",
       "20  2015-03-01 00:00:00.000                    XTO ENERGY INCORPORATED   \n",
       "21  2015-06-01 00:00:00.000             BURLINGTON RESOURCES O&G CO LP   \n",
       "22  2014-12-01 00:00:00.000             HESS BAKKEN INVESTMENTS II LLC   \n",
       "23  2015-08-01 00:00:00.000             HESS BAKKEN INVESTMENTS II LLC   \n",
       "24  2015-03-01 00:00:00.000              WHITING OIL & GAS CORPORATION   \n",
       "25  2015-10-01 00:00:00.000              WHITING OIL & GAS CORPORATION   \n",
       "26  2015-02-01 00:00:00.000              WHITING OIL & GAS CORPORATION   \n",
       "27  2015-07-01 00:00:00.000             HESS BAKKEN INVESTMENTS II LLC   \n",
       "28  2014-02-01 00:00:00.000              WHITING OIL & GAS CORPORATION   \n",
       "29  2014-04-01 00:00:00.000         CONTINENTAL RESOURCES INCORPORATED   \n",
       "30  2014-12-01 00:00:00.000                    XTO ENERGY INCORPORATED   \n",
       "31  2014-12-01 00:00:00.000   LIBERTY RESOURCES MANAGEMENT COMPANY LLC   \n",
       "32  2015-03-01 00:00:00.000         CONTINENTAL RESOURCES INCORPORATED   \n",
       "33  2015-02-01 00:00:00.000              WHITING OIL & GAS CORPORATION   \n",
       "34  2015-03-01 00:00:00.000         CONTINENTAL RESOURCES INCORPORATED   \n",
       "35  2014-06-01 00:00:00.000                       MARATHON OIL COMPANY   \n",
       "36  2014-12-01 00:00:00.000                     CIMAREX ENERGY COMPANY   \n",
       "37  2015-08-01 00:00:00.000    CHAPARRAL ENERGY LIMITED LIABILITY CORP   \n",
       "38  2014-06-01 00:00:00.000  APPROACH OPERATING LIMITED LIABILITY CORP   \n",
       "39  2014-08-01 00:00:00.000                   EP ENERGY E&P COMPANY LP   \n",
       "40  2014-12-01 00:00:00.000  APPROACH OPERATING LIMITED LIABILITY CORP   \n",
       "41  2015-03-01 00:00:00.000  APPROACH OPERATING LIMITED LIABILITY CORP   \n",
       "42  2013-04-01 00:00:00.000        SHELL WESTERN E & P INCORPORATED LP   \n",
       "43  2015-10-01 00:00:00.000          PIONEER NATURAL RESOURCES USA INC   \n",
       "44  2014-11-01 00:00:00.000         DIAMONDBACK EXPLORATION & PROD LLC   \n",
       "45  2014-02-01 00:00:00.000           SABLE PERMIAN RESOURCES LAND LLC   \n",
       "46  2014-06-01 00:00:00.000                 EOG RESOURCES INCORPORATED   \n",
       "47  2015-03-01 00:00:00.000    BHP BILLITON PETROLEUM(TXLA OP) COMPANY   \n",
       "48  2015-06-01 00:00:00.000          PIONEER NATURAL RESOURCES USA INC   \n",
       "49  2014-03-01 00:00:00.000                     SAMSON EXPLORATION LLC   \n",
       "\n",
       "               formation        BasinName     StateName  CountyName  \\\n",
       "0               NIOBRARA     DENVER BASIN      COLORADO    ARAPAHOE   \n",
       "1               NIOBRARA     DENVER BASIN      COLORADO        WELD   \n",
       "2               NIOBRARA     DENVER BASIN      COLORADO        WELD   \n",
       "3               NIOBRARA     DENVER BASIN      COLORADO        WELD   \n",
       "4               NIOBRARA     DENVER BASIN      COLORADO        WELD   \n",
       "5               NIOBRARA     DENVER BASIN      COLORADO        WELD   \n",
       "6               NIOBRARA     DENVER BASIN      COLORADO        WELD   \n",
       "7               NIOBRARA     DENVER BASIN      COLORADO        WELD   \n",
       "8               NIOBRARA     DENVER BASIN      COLORADO        WELD   \n",
       "9                 CODELL     DENVER BASIN      COLORADO        WELD   \n",
       "10              NIOBRARA     DENVER BASIN      COLORADO        WELD   \n",
       "11              NIOBRARA     DENVER BASIN      COLORADO        WELD   \n",
       "12           BONE SPRING    PERMIAN BASIN    NEW MEXICO        EDDY   \n",
       "13        WOLFCAMP UPPER    PERMIAN BASIN    NEW MEXICO         LEA   \n",
       "14           THREE FORKS  WILLISTON BASIN  NORTH DAKOTA      DIVIDE   \n",
       "15                BAKKEN  WILLISTON BASIN  NORTH DAKOTA        DUNN   \n",
       "16                BAKKEN  WILLISTON BASIN  NORTH DAKOTA    MCKENZIE   \n",
       "17                BAKKEN  WILLISTON BASIN  NORTH DAKOTA    MCKENZIE   \n",
       "18  THREE FORKS / BAKKEN  WILLISTON BASIN  NORTH DAKOTA    MCKENZIE   \n",
       "19                BAKKEN  WILLISTON BASIN  NORTH DAKOTA    MCKENZIE   \n",
       "20           THREE FORKS  WILLISTON BASIN  NORTH DAKOTA    MCKENZIE   \n",
       "21           THREE FORKS  WILLISTON BASIN  NORTH DAKOTA    MCKENZIE   \n",
       "22                BAKKEN  WILLISTON BASIN  NORTH DAKOTA    MCKENZIE   \n",
       "23           THREE FORKS  WILLISTON BASIN  NORTH DAKOTA    MCKENZIE   \n",
       "24                BAKKEN  WILLISTON BASIN  NORTH DAKOTA    MCKENZIE   \n",
       "25           THREE FORKS  WILLISTON BASIN  NORTH DAKOTA    MCKENZIE   \n",
       "26           THREE FORKS  WILLISTON BASIN  NORTH DAKOTA   MOUNTRAIL   \n",
       "27           THREE FORKS  WILLISTON BASIN  NORTH DAKOTA   MOUNTRAIL   \n",
       "28           THREE FORKS  WILLISTON BASIN  NORTH DAKOTA    WILLIAMS   \n",
       "29           THREE FORKS  WILLISTON BASIN  NORTH DAKOTA    WILLIAMS   \n",
       "30                BAKKEN  WILLISTON BASIN  NORTH DAKOTA    WILLIAMS   \n",
       "31                BAKKEN  WILLISTON BASIN  NORTH DAKOTA    WILLIAMS   \n",
       "32           THREE FORKS  WILLISTON BASIN  NORTH DAKOTA    WILLIAMS   \n",
       "33           THREE FORKS  WILLISTON BASIN  NORTH DAKOTA    WILLIAMS   \n",
       "34           THREE FORKS  WILLISTON BASIN  NORTH DAKOTA    WILLIAMS   \n",
       "35              WOODFORD   ANADARKO BASIN      OKLAHOMA    CANADIAN   \n",
       "36              WOODFORD   ANADARKO BASIN      OKLAHOMA    CANADIAN   \n",
       "37                OSWEGO   ANADARKO BASIN      OKLAHOMA  KINGFISHER   \n",
       "38              WOLFCAMP    PERMIAN BASIN         TEXAS    CROCKETT   \n",
       "39              WOLFCAMP    PERMIAN BASIN         TEXAS    CROCKETT   \n",
       "40              WOLFCAMP    PERMIAN BASIN         TEXAS    CROCKETT   \n",
       "41              WOLFCAMP    PERMIAN BASIN         TEXAS    CROCKETT   \n",
       "42           BONE SPRING    PERMIAN BASIN         TEXAS      LOVING   \n",
       "43             SPRABERRY    PERMIAN BASIN         TEXAS      MARTIN   \n",
       "44              WOLFCAMP    PERMIAN BASIN         TEXAS       PECOS   \n",
       "45              WOLFCAMP    PERMIAN BASIN         TEXAS      REAGAN   \n",
       "46              WOLFCAMP    PERMIAN BASIN         TEXAS      REEVES   \n",
       "47              WOLFCAMP    PERMIAN BASIN         TEXAS      REEVES   \n",
       "48             SPRABERRY    PERMIAN BASIN         TEXAS       UPTON   \n",
       "49                CODELL     DENVER BASIN       WYOMING     LARAMIE   \n",
       "\n",
       "     LatWGS84    LonWGS84  BottomHoleLatitude  BottomHoleLongitude  \\\n",
       "0   39.684606 -104.642128            39.68445           -104.60557   \n",
       "1   40.509320 -104.780980            40.49692           -104.77859   \n",
       "2   40.335390 -104.363000            40.34780           -104.36863   \n",
       "3   40.152220 -104.530780            40.17445           -104.52932   \n",
       "4   40.508303 -104.868180            40.49558           -104.86757   \n",
       "5   40.520989 -104.450861            40.52100           -104.46772   \n",
       "6   40.118872 -104.789372            40.13079           -104.78716   \n",
       "7   40.147015 -104.898342            40.16105           -104.89340   \n",
       "8   40.263373 -104.727955            40.27426           -104.73307   \n",
       "9   40.353967 -104.944679            40.35440           -104.96173   \n",
       "10  40.482361 -104.468261            40.48424           -104.45072   \n",
       "11  40.433139 -104.298585            40.43460           -104.28176   \n",
       "12  32.312443 -104.030511            32.31051           -104.01594   \n",
       "13  32.080410 -103.530040            32.09347           -103.52959   \n",
       "14  48.893759 -103.647074            48.86601           -103.64545   \n",
       "15  47.457199 -102.876301            47.48709           -102.87709   \n",
       "16  47.995019 -103.561306            47.99470           -103.52035   \n",
       "17  47.992928 -103.020490            48.02321           -103.01697   \n",
       "18  48.067984 -103.032125            48.08104           -103.03132   \n",
       "19  47.791114 -103.545864            47.81872           -103.54224   \n",
       "20  47.746094 -103.098475            47.71838           -103.09252   \n",
       "21  47.846022 -102.967045            47.81920           -102.96232   \n",
       "22  47.675447 -103.316278            47.70267           -103.31067   \n",
       "23  47.920949 -102.856899            47.92118           -102.81310   \n",
       "24  47.847589 -103.975208            47.82010           -103.98625   \n",
       "25  48.022461 -103.109486            47.99290           -103.10193   \n",
       "26  48.109905 -102.565508            48.09766           -102.54984   \n",
       "27  48.140773 -102.694397            48.11112           -102.69618   \n",
       "28  48.167886 -103.193273            48.14049           -103.18976   \n",
       "29  48.230954 -103.189569            48.19827           -103.19005   \n",
       "30  48.516578 -102.938572            48.49633           -102.93151   \n",
       "31  48.503628 -102.977092            48.53119           -102.97815   \n",
       "32  48.603374 -103.032381            48.57598           -103.03142   \n",
       "33  48.112097 -103.294476            48.13924           -103.29261   \n",
       "34  48.225953 -103.318167            48.19845           -103.31350   \n",
       "35  35.550467  -97.837858            35.53706            -97.83706   \n",
       "36  35.383976  -97.991358            35.40532            -97.99148   \n",
       "37  36.044720  -97.893227            36.03002            -97.89306   \n",
       "38  30.932566 -101.224790            30.91022           -101.22338   \n",
       "39  31.036220 -101.298203            31.05840           -101.29816   \n",
       "40  30.931085 -101.275646            30.91015           -101.27472   \n",
       "41  30.891880 -101.239248            30.91010           -101.23926   \n",
       "42  31.955840 -103.740776            31.94281           -103.74097   \n",
       "43  32.175802 -102.062501            32.19690           -102.06904   \n",
       "44  31.103318 -103.107997            31.10177           -103.13352   \n",
       "45  31.287603 -101.589564            31.25907           -101.58952   \n",
       "46  31.613055 -103.943273            31.59780           -103.94402   \n",
       "47  31.767678 -103.855621            31.78125           -103.85369   \n",
       "48  31.268789 -101.789362            31.24249           -101.78967   \n",
       "49  41.289530 -104.662340            41.27109           -104.66166   \n",
       "\n",
       "    LATERAL_LENGTH_BLEND  PROP_PER_FOOT  WATER_PER_FOOT  Prod1Year  ProdAll  \n",
       "0                 9005.0       994.6866      591.800400     126898   201325  \n",
       "1                 4195.0       991.5857      628.632100      22616    34625  \n",
       "2                 4273.0      1000.2760      564.484100      47523    69009  \n",
       "3                 7078.0       973.4437      824.002000      59474    81048  \n",
       "4                 3211.0       783.5919      603.141400      14427    18050  \n",
       "5                 4259.0      1011.0440      698.681900      24340    38365  \n",
       "6                 4518.0       469.8262      798.167600      72997   108032  \n",
       "7                 4975.0      1267.8870      835.992800      44543    77472  \n",
       "8                 4786.0       805.9642     1133.333000      21150    39758  \n",
       "9                 4195.0       926.5010      403.322300      55181    91774  \n",
       "10                4240.0       697.0967      983.059900      33969    48796  \n",
       "11                4294.0       896.9146      604.394700      30361    40916  \n",
       "12                3790.0       648.1232      477.618100      42353    70044  \n",
       "13                4583.0      1657.9800     1625.025000     175992   281523  \n",
       "14               10055.0       247.5587      193.152500      66098   114677  \n",
       "15               10225.0       326.3353      763.942100     140340   246346  \n",
       "16                9400.0       984.4741      559.110700     134023   192598  \n",
       "17               10415.0       341.2530      233.851900     125944   209884  \n",
       "18                1513.0       455.8970      367.239100      67417    96426  \n",
       "19                9613.0       392.4996      400.888700      84151   131333  \n",
       "20               10021.0       375.7643      361.355000      68327   118509  \n",
       "21                9291.0       440.1811      279.032700      96230   177349  \n",
       "22               10052.0       148.4382      119.386300      42082    67576  \n",
       "23                9841.0       354.8798      240.360000     103174   143473  \n",
       "24               10951.0       286.4915      236.736400      50088    76054  \n",
       "25               11238.0       401.0879      174.951200     206081   305750  \n",
       "26                5102.0       307.2087      474.892600      44737    69553  \n",
       "27                9872.0       206.0430      161.287500      98590   150776  \n",
       "28                9211.0       366.1146        3.051352      42065    63100  \n",
       "29               11492.0       359.6471      301.821500      64300   114125  \n",
       "30                7143.0       346.7994      394.368900      24543    65310  \n",
       "31                9947.0       422.7651      815.382500     128838   200140  \n",
       "32                9521.0       333.2274      256.376800      55485    80612  \n",
       "33                4542.0       330.9360      231.485800      73508   107681  \n",
       "34                9477.0       610.1913      517.700600     107856   179799  \n",
       "35                4596.0      1294.5750     1924.085000      19631    32732  \n",
       "36                7440.0      2053.6050     1768.781000      81780   159987  \n",
       "37                4530.0       108.3326      382.215800      51670    91761  \n",
       "38                7330.0      1201.4860     1170.349000      21372    30474  \n",
       "39                7727.0      1322.0210      928.173800      56150    68082  \n",
       "40                6853.0      1247.4980     1382.348000      31318    46242  \n",
       "41                5946.0      1182.1640     1441.936000      35829    47727  \n",
       "42                3656.0       488.5271      354.653600      28951    37897  \n",
       "43                7290.0      1157.6290     1560.677000      61365    87498  \n",
       "44                7664.0      1785.7310     3272.875000      84683   159724  \n",
       "45                9619.0      1659.3060     1489.541000      60140   102284  \n",
       "46                4808.0      1535.0170     1263.295000      91799   155902  \n",
       "47                4738.0      1319.8350     1201.862000     104584   165113  \n",
       "48                9091.0       983.5690     1691.322000      65953    95097  \n",
       "49                6030.0      1106.8640      652.499000      51621    72608  "
      ]
     },
     "execution_count": 74,
     "metadata": {},
     "output_type": "execute_result"
    }
   ],
   "source": [
    "wells_info_with_prod = pd.read_csv('wells_info_with_prod.csv')\n",
    "wells_info_with_prod"
   ]
  },
  {
   "cell_type": "code",
   "execution_count": 75,
   "metadata": {},
   "outputs": [],
   "source": [
    "x = wells_info_with_prod.drop(['Prod1Year', 'ProdAll', 'SpudDate' ,'FirstProductionDate','PermitDate',\n",
    "                               'operatorNameIHS','BasinName','StateName','CountyName'], axis=1)\n",
    "y = wells_info_with_prod['Prod1Year']\n",
    "x['CompletionDate'] = pd.to_datetime(x['CompletionDate'] , format = '%Y-%m-%d')\n",
    "x['CompletionDate'] = x['CompletionDate'].apply(lambda x: x.strftime('%Y%m%d'))\n",
    "x['CompletionDate'] = pd.to_numeric(x['CompletionDate'])\n",
    "form_matr = pd.get_dummies(x['formation'])\n",
    "x = x.drop(columns = 'formation')\n",
    "x = x.join(form_matr)"
   ]
  },
  {
   "cell_type": "code",
   "execution_count": 86,
   "metadata": {},
   "outputs": [],
   "source": [
    "from sklearn.manifold import TSNE\n",
    "import matplotlib.cm as cm"
   ]
  },
  {
   "cell_type": "code",
   "execution_count": 112,
   "metadata": {},
   "outputs": [
    {
     "data": {
      "image/png": "[encoded data removed]",
      "text/plain": [
       "<Figure size 432x432 with 1 Axes>"
      ]
     },
     "metadata": {
      "needs_background": "light"
     },
     "output_type": "display_data"
    }
   ],
   "source": [
    "model = TSNE(n_components=2)\n",
    "squeezed = model.fit_transform(x)\n",
    "\n",
    "plt.figure(figsize=(6, 6))\n",
    "\n",
    "colors = cm.rainbow(np.linspace(0, 1, x.shape[0]))\n",
    "\n",
    "plt.scatter(squeezed[:,0],squeezed[:,1],color = colors)\n",
    "\n",
    "plt.show()"
   ]
  }
 ],
 "metadata": {
  "kernelspec": {
   "display_name": "Python 3",
   "language": "python",
   "name": "python3"
  },
  "language_info": {
   "codemirror_mode": {
    "name": "ipython",
    "version": 3
   },
   "file_extension": ".py",
   "mimetype": "text/x-python",
   "name": "python",
   "nbconvert_exporter": "python",
   "pygments_lexer": "ipython3",
   "version": "3.8.3"
  }
 },
 "nbformat": 4,
 "nbformat_minor": 4
}
