{
 "cells": [
  {
   "cell_type": "markdown",
   "metadata": {},
   "source": [
    "1.IsPalindrom"
   ]
  },
  {
   "cell_type": "code",
   "execution_count": 6,
   "metadata": {},
   "outputs": [
    {
     "name": "stdout",
     "output_type": "stream",
     "text": [
      "RebeR\n",
      "RebeR is palindrom\n"
     ]
    }
   ],
   "source": [
    "def IsPalindrom(str):\n",
    "    str.lower()\n",
    "    if str[::-1] == str:\n",
    "        return 1\n",
    "    else:\n",
    "        return 0\n",
    "str = input()\n",
    "if IsPalindrom(str) == 1: \n",
    "    print(str,\"is palindrom\")\n",
    "else:\n",
    "    print(str,\"is not palindrom\")"
   ]
  },
  {
   "cell_type": "markdown",
   "metadata": {},
   "source": [
    "2.Bigger word"
   ]
  },
  {
   "cell_type": "code",
   "execution_count": 10,
   "metadata": {},
   "outputs": [
    {
     "name": "stdout",
     "output_type": "stream",
     "text": [
      "abc abc aaabbbccc a\n",
      "aaabbbccc\n"
     ]
    }
   ],
   "source": [
    "str = input()\n",
    "lst = str.split(' ')\n",
    "lst.sort(key=lambda string: len(string))\n",
    "print(lst[-1])"
   ]
  },
  {
   "cell_type": "markdown",
   "metadata": {},
   "source": [
    "3.Even and odd"
   ]
  },
  {
   "cell_type": "code",
   "execution_count": 53,
   "metadata": {},
   "outputs": [
    {
     "name": "stdout",
     "output_type": "stream",
     "text": [
      "[861624, 305690, 357377, 418622, 279470, 470399, 220047, 941781, 890501, 501731]\n",
      "Odd numbers = 6\n",
      "Even numbers = 4\n"
     ]
    }
   ],
   "source": [
    "i = 0\n",
    "k = 0\n",
    "odd_num = 0\n",
    "even_num = 0\n",
    "lst = []\n",
    "for i in range(0,10):\n",
    "    lst.append(random.randint(0,1000000))\n",
    "print(lst)\n",
    "for num in lst:\n",
    "    if num % 2 == 0:\n",
    "        even_num = even_num + 1\n",
    "    else:\n",
    "        odd_num = odd_num + 1\n",
    "print(\"Odd numbers =\", odd_num)\n",
    "print(\"Even numbers =\", even_num)"
   ]
  },
  {
   "cell_type": "markdown",
   "metadata": {},
   "source": [
    "4.Dict"
   ]
  },
  {
   "cell_type": "code",
   "execution_count": 14,
   "metadata": {},
   "outputs": [
    {
     "name": "stdout",
     "output_type": "stream",
     "text": [
      "{'очи': 'глаза', 'скупость': 'жадность', 'друг': 'прияетель', 'беда': 'горе'}\n",
      "ск\n",
      "ск\n"
     ]
    }
   ],
   "source": [
    "init_dict = {'очи':'глаза','скупость':'жадность','друг':'прияетель','беда':'горе'}\n",
    "print(init_dict)\n",
    "str = input()\n",
    "lst = str.split(' ')\n",
    "k = 0\n",
    "for i in init_dict.keys():\n",
    "    if i in lst:\n",
    "        lst[lst.index(i)] = init_dict[i]\n",
    "str = ' '.join(lst)\n",
    "print(str)"
   ]
  },
  {
   "cell_type": "markdown",
   "metadata": {},
   "source": [
    "5.Fibonachi"
   ]
  },
  {
   "cell_type": "code",
   "execution_count": 85,
   "metadata": {},
   "outputs": [
    {
     "name": "stdout",
     "output_type": "stream",
     "text": [
      "2\n",
      "1\n"
     ]
    }
   ],
   "source": [
    "def Fibonachi(n):\n",
    "    if int(n) == 0:\n",
    "        return 0\n",
    "    if int(n) == 1:\n",
    "        return 1\n",
    "    else:\n",
    "        return Fibonachi(int(n) - 1) + Fibonachi(int(n) - 2)\n",
    "n = input()\n",
    "print(Fibonachi(n))"
   ]
  },
  {
   "cell_type": "markdown",
   "metadata": {},
   "source": [
    "6.File"
   ]
  },
  {
   "cell_type": "code",
   "execution_count": 2,
   "metadata": {},
   "outputs": [
    {
     "name": "stdout",
     "output_type": "stream",
     "text": [
      "data.txt\n",
      "Количество букв: 13\n",
      "Количество слов: 4\n",
      "Количество строк: 3\n"
     ]
    }
   ],
   "source": [
    "filename = input()\n",
    "str_counter = 0;\n",
    "symb_counter = 0;\n",
    "words_counter = 0;\n",
    "endl_counter = 0;\n",
    "try:\n",
    "    with open(filename,\"r\") as file:\n",
    "        for line in file:\n",
    "            str_counter = str_counter + 1\n",
    "            symb_counter = symb_counter + len(line)\n",
    "            endl_counter = endl_counter + line.count('\\n')\n",
    "            lst = line.split(' ')\n",
    "            words_counter = words_counter + len(lst)\n",
    "    print(\"Количество букв:\",symb_counter - endl_counter)\n",
    "    print(\"Количество слов:\",words_counter)\n",
    "    print(\"Количество строк:\",str_counter)\n",
    "except FileNotFoundError:\n",
    "    print(\"No such file or directory:\",filename)"
   ]
  },
  {
   "cell_type": "code",
   "execution_count": null,
   "metadata": {},
   "outputs": [],
   "source": []
  }
 ],
 "metadata": {
  "kernelspec": {
   "display_name": "Python 3",
   "language": "python",
   "name": "python3"
  },
  "language_info": {
   "codemirror_mode": {
    "name": "ipython",
    "version": 3
   },
   "file_extension": ".py",
   "mimetype": "text/x-python",
   "name": "python",
   "nbconvert_exporter": "python",
   "pygments_lexer": "ipython3",
   "version": "3.8.3"
  }
 },
 "nbformat": 4,
 "nbformat_minor": 4
}
