{
 "cells": [
  {
   "cell_type": "code",
   "execution_count": 107,
   "metadata": {},
   "outputs": [
    {
     "name": "stdout",
     "output_type": "stream",
     "text": [
      "Число: 655\n",
      "Cумма чисел: 16\n"
     ]
    }
   ],
   "source": [
    "import random\n",
    "import math\n",
    "a = random.randint(100, 999)\n",
    "print(\"Число:\",a)\n",
    "print(\"Cумма чисел:\",a // 100 + a // 10 % 10 + a % 10)"
   ]
  },
  {
   "cell_type": "code",
   "execution_count": 106,
   "metadata": {},
   "outputs": [
    {
     "name": "stdout",
     "output_type": "stream",
     "text": [
      "Число: 5759087\n",
      "Cумма цифр: 41\n"
     ]
    }
   ],
   "source": [
    "a = random.randint(1, 10000000)\n",
    "print(\"Число:\",a)\n",
    "st = str(a)\n",
    "summ = 0\n",
    "i = 0\n",
    "while i < len(st):\n",
    "    summ = summ + int(st[i])\n",
    "    i = i + 1\n",
    "print(\"Cумма цифр:\",summ)\n"
   ]
  },
  {
   "cell_type": "code",
   "execution_count": 110,
   "metadata": {},
   "outputs": [
    {
     "name": "stdout",
     "output_type": "stream",
     "text": [
      "3\n",
      "S = 113.09733552923255\n",
      "V = 113.09733552923255\n"
     ]
    }
   ],
   "source": [
    "a = input()\n",
    "print(\"S =\",4.0 * float(math.pi) * (float(a) ** 2))\n",
    "print(\"V =\",4.0 * float(math.pi) * (float(a) ** 3)/3)"
   ]
  },
  {
   "cell_type": "code",
   "execution_count": null,
   "metadata": {},
   "outputs": [],
   "source": [
    "a = input()\n",
    "if int(a) % 400 == 0:\n",
    "    print(\"Год високосный\")\n",
    "elif int(a) % 4 == 0 and int(a) % 100 != 0:\n",
    "    print(\"Год високосный\")\n",
    "else:\n",
    "    print(\"Год невисокосный\")"
   ]
  },
  {
   "cell_type": "code",
   "execution_count": 111,
   "metadata": {},
   "outputs": [
    {
     "name": "stdout",
     "output_type": "stream",
     "text": [
      "20\n",
      "1\n",
      "2\n",
      "3\n",
      "5\n",
      "7\n",
      "11\n",
      "13\n",
      "17\n",
      "19\n"
     ]
    }
   ],
   "source": [
    "N = input()\n",
    "for i in range(1,int(N) + 1):\n",
    "    if i == 1:\n",
    "        print(i)\n",
    "        continue\n",
    "    else:\n",
    "        d = 2\n",
    "        while i % d != 0:\n",
    "            d = d + 1\n",
    "        if d == i:\n",
    "            print(i)"
   ]
  },
  {
   "cell_type": "code",
   "execution_count": 88,
   "metadata": {},
   "outputs": [
    {
     "name": "stdout",
     "output_type": "stream",
     "text": [
      "10000\n",
      "2\n",
      "12100.000000000002\n"
     ]
    }
   ],
   "source": [
    "summ = input()\n",
    "years = input()\n",
    "print(float(summ) * (1 + 0.1) ** int(years))"
   ]
  },
  {
   "cell_type": "code",
   "execution_count": null,
   "metadata": {},
   "outputs": [],
   "source": []
  }
 ],
 "metadata": {
  "kernelspec": {
   "display_name": "Python 3",
   "language": "python",
   "name": "python3"
  },
  "language_info": {
   "codemirror_mode": {
    "name": "ipython",
    "version": 3
   },
   "file_extension": ".py",
   "mimetype": "text/x-python",
   "name": "python",
   "nbconvert_exporter": "python",
   "pygments_lexer": "ipython3",
   "version": "3.8.3"
  }
 },
 "nbformat": 4,
 "nbformat_minor": 4
}
