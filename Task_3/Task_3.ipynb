{
 "cells": [
  {
   "cell_type": "code",
   "execution_count": 2,
   "metadata": {},
   "outputs": [],
   "source": [
    "import matplotlib.pyplot as plt\n",
    "import numpy as np\n",
    "from PIL import Image"
   ]
  },
  {
   "cell_type": "markdown",
   "metadata": {},
   "source": [
    "1.Sort"
   ]
  },
  {
   "cell_type": "code",
   "execution_count": 17,
   "metadata": {},
   "outputs": [
    {
     "name": "stdout",
     "output_type": "stream",
     "text": [
      "Initial array: [0 3 0 1 1 2 1 0 2 1]\n",
      "Sorted array by frequence: [3 2 0 1]\n"
     ]
    }
   ],
   "source": [
    "init_arr = np.array([0,3,0,1,1,2,1,0,2,1])\n",
    "print(\"Initial array:\",init_arr)\n",
    "un_arr,fr_arr = np.unique(init_arr,return_counts = True)\n",
    "id_arr = np.argsort(fr_arr)\n",
    "print(\"Sorted array by frequence:\",un_arr[id_arr])"
   ]
  },
  {
   "cell_type": "markdown",
   "metadata": {},
   "source": [
    "2.Unique colors"
   ]
  },
  {
   "cell_type": "code",
   "execution_count": 85,
   "metadata": {},
   "outputs": [
    {
     "name": "stdout",
     "output_type": "stream",
     "text": [
      "23142.0\n"
     ]
    }
   ],
   "source": [
    "img = Image.open(\"image.jpg\")\n",
    "color_arr = np.array(img, dtype = np.uint8)\n",
    "new_arr = color_arr.reshape(-1, color_arr.shape[2])\n",
    "un_arr = np.unique(new_arr,axis = 0)\n",
    "print(un_arr.size / 3)"
   ]
  },
  {
   "cell_type": "markdown",
   "metadata": {},
   "source": [
    "3.Vector"
   ]
  },
  {
   "cell_type": "code",
   "execution_count": 26,
   "metadata": {},
   "outputs": [
    {
     "name": "stdout",
     "output_type": "stream",
     "text": [
      "[1.33333333 1.33333333 1.         0.66666667]\n"
     ]
    }
   ],
   "source": [
    "def Mov_avg(arr,dx):# dx - количество соседей с одной стороны\n",
    "    mov_avg = np.zeros(arr.size)\n",
    "    i = 0\n",
    "    while i < arr.size:\n",
    "        if i - dx < 0:\n",
    "            mov_avg[i] = 1.0 * arr[0:i + dx + 1].sum() / (2 * dx + 1)\n",
    "        elif i + dx > arr.size - 1:\n",
    "            mov_avg[i] = 1.0 * arr[i - dx:arr.size].sum() / (2 * dx + 1)\n",
    "        else:\n",
    "            mov_avg[i] = arr[i - dx:i + dx + 1].mean()\n",
    "        i = i + 1\n",
    "    return mov_avg\n",
    "\n",
    "arr = np.array([3,1,0,2])\n",
    "print(Mov_avg(arr,1))"
   ]
  },
  {
   "cell_type": "markdown",
   "metadata": {},
   "source": [
    "4.Triangle"
   ]
  },
  {
   "cell_type": "code",
   "execution_count": 109,
   "metadata": {},
   "outputs": [
    {
     "name": "stdout",
     "output_type": "stream",
     "text": [
      "[1 1 1] is triagle\n",
      "[3 4 5] is triagle\n",
      "[  0   1 100] is not triagle\n"
     ]
    }
   ],
   "source": [
    "def isTriangle(a):\n",
    "    if a[0] > 0 and a[1] > 0 and a[2] > 0:\n",
    "        if a[0] <= a[1] + a[2] and a[1] <= a[2] + a[0] and a[2] <= a[1] + a[0]:\n",
    "            print(a,\"is triagle\")\n",
    "        else:\n",
    "            print(a,\"is not triagle\")\n",
    "    else:\n",
    "        print(a,\"is not triagle\")\n",
    "matr = np.array([[1,1,1],[3,4,5],[0,1,100]])\n",
    "empt_mass = np.apply_along_axis(isTriangle,axis = 1,arr = matr)"
   ]
  }
 ],
 "metadata": {
  "kernelspec": {
   "display_name": "Python 3",
   "language": "python",
   "name": "python3"
  },
  "language_info": {
   "codemirror_mode": {
    "name": "ipython",
    "version": 3
   },
   "file_extension": ".py",
   "mimetype": "text/x-python",
   "name": "python",
   "nbconvert_exporter": "python",
   "pygments_lexer": "ipython3",
   "version": "3.8.3"
  }
 },
 "nbformat": 4,
 "nbformat_minor": 4
}
